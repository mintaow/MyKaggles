{
 "cells": [
  {
   "cell_type": "code",
   "execution_count": 1,
   "metadata": {
    "collapsed": true,
    "executionInfo": {
     "elapsed": 1522,
     "status": "ok",
     "timestamp": 1610018167569,
     "user": {
      "displayName": "mintao Wei",
      "photoUrl": "https://lh3.googleusercontent.com/a-/AOh14GjUHrwTX0bIeMcYDzrk5ktRiVbgauRzY5ALVxYZ=s64",
      "userId": "12058205070896827997"
     },
     "user_tz": -480
    },
    "id": "IWYDxHic2niX"
   },
   "outputs": [],
   "source": [
    "# This Python 3 environment comes with many helpful analytics libraries installed\n",
    "# It is defined by the kaggle/python Docker image: https://github.com/kaggle/docker-python\n",
    "# For example, here's several helpful packages to load\n",
    "\n",
    "import numpy as np # linear algebra\n",
    "import pandas as pd # data processing, CSV file I/O (e.g. pd.read_csv)\n",
    "from matplotlib import pyplot as plt\n",
    "\n",
    "# Input data files are available in the read-only \"../input/\" directory\n",
    "# For example, running this (by clicking run or pressing Shift+Enter) will list all files under the input directory\n",
    "\n",
    "import os\n",
    "for dirname, _, filenames in os.walk('/kaggle/input'):\n",
    "    for filename in filenames:\n",
    "        print(os.path.join(dirname, filename))\n",
    "\n",
    "# You can write up to 5GB to the current directory (/kaggle/working/) that gets preserved as output when you create a version using \"Save & Run All\" \n",
    "# You can also write temporary files to /kaggle/temp/, but they won't be saved outside of the current session"
   ]
  },
  {
   "cell_type": "code",
   "execution_count": 2,
   "metadata": {
    "colab": {
     "base_uri": "https://localhost:8080/"
    },
    "executionInfo": {
     "elapsed": 152290,
     "status": "ok",
     "timestamp": 1610018318602,
     "user": {
      "displayName": "mintao Wei",
      "photoUrl": "https://lh3.googleusercontent.com/a-/AOh14GjUHrwTX0bIeMcYDzrk5ktRiVbgauRzY5ALVxYZ=s64",
      "userId": "12058205070896827997"
     },
     "user_tz": -480
    },
    "id": "Qzc0fIaCj1wU",
    "outputId": "6ea6bbca-8317-449f-ad09-dd4861a75872"
   },
   "outputs": [
    {
     "name": "stdout",
     "output_type": "stream",
     "text": [
      "Mounted at /content/drive/\n"
     ]
    }
   ],
   "source": [
    "from google.colab import drive\n",
    "drive.mount(\"/content/drive/\")"
   ]
  },
  {
   "cell_type": "markdown",
   "metadata": {
    "id": "J_dHB2712nid"
   },
   "source": [
    "## STEP 1: Read in the data"
   ]
  },
  {
   "cell_type": "code",
   "execution_count": 3,
   "metadata": {
    "colab": {
     "base_uri": "https://localhost:8080/"
    },
    "executionInfo": {
     "elapsed": 177174,
     "status": "ok",
     "timestamp": 1610018575991,
     "user": {
      "displayName": "mintao Wei",
      "photoUrl": "https://lh3.googleusercontent.com/a-/AOh14GjUHrwTX0bIeMcYDzrk5ktRiVbgauRzY5ALVxYZ=s64",
      "userId": "12058205070896827997"
     },
     "user_tz": -480
    },
    "id": "aKhKRUep2nid",
    "outputId": "e8ad7245-306b-478a-ba98-41f5e7bf9789"
   },
   "outputs": [
    {
     "name": "stdout",
     "output_type": "stream",
     "text": [
      "Processing Chunk No. 1\n",
      "Processing Chunk No. 2\n",
      "Processing Chunk No. 3\n",
      "Processing Chunk No. 4\n",
      "Processing Chunk No. 5\n",
      "Processing Chunk No. 6\n",
      "Processing Chunk No. 7\n",
      "Processing Chunk No. 8\n",
      "Processing Chunk No. 9\n",
      "Processing Chunk No. 10\n",
      "Processing Chunk No. 11\n",
      "Processing Chunk No. 12\n",
      "Processing Chunk No. 13\n",
      "Processing Chunk No. 14\n",
      "Processing Chunk No. 15\n",
      "Processing Chunk No. 16\n",
      "Processing Chunk No. 17\n",
      "Processing Chunk No. 18\n",
      "Processing Chunk No. 19\n",
      "Processing Chunk No. 20\n",
      "Processing Chunk No. 21\n",
      "Processing Chunk No. 22\n",
      "Processing Chunk No. 23\n",
      "Processing Chunk No. 24\n",
      "Processing Chunk No. 25\n",
      "Processing Chunk No. 26\n",
      "Processing Chunk No. 27\n",
      "Processing Chunk No. 28\n",
      "Processing Chunk No. 29\n",
      "Processing Chunk No. 30\n",
      "Processing Chunk No. 31\n",
      "Processing Chunk No. 32\n",
      "Processing Chunk No. 33\n",
      "Processing Chunk No. 34\n",
      "Processing Chunk No. 35\n",
      "Processing Chunk No. 36\n",
      "Processing Chunk No. 37\n",
      "Processing Chunk No. 38\n",
      "Processing Chunk No. 39\n",
      "Processing Chunk No. 40\n",
      "Processing Chunk No. 41\n"
     ]
    },
    {
     "data": {
      "text/plain": [
       "404290"
      ]
     },
     "execution_count": 3,
     "metadata": {
      "tags": []
     },
     "output_type": "execute_result"
    }
   ],
   "source": [
    "num_of_chunk = 0\n",
    "chunksize = 10 ** 6\n",
    "\n",
    "train = pd.DataFrame()\n",
    "    \n",
    "for chunk in pd.read_csv('/content/drive/My Drive/Colab Notebooks/Kaggle/train.gz', sep = \",\", chunksize=chunksize):\n",
    "    num_of_chunk += 1\n",
    "    train = pd.concat([train, chunk.sample(frac=.01, replace=False, random_state=123)], axis=0) # >= chunk.sample(frac = .002)\n",
    "    print('Processing Chunk No. ' + str(num_of_chunk))     \n",
    "    \n",
    "train.reset_index(inplace=True)\n",
    "\n",
    "# Create a back-up file for the length of the training set\n",
    "train_len = len(train)\n",
    "train_len"
   ]
  },
  {
   "cell_type": "code",
   "execution_count": 4,
   "metadata": {
    "collapsed": true,
    "executionInfo": {
     "elapsed": 202404,
     "status": "ok",
     "timestamp": 1610018601441,
     "user": {
      "displayName": "mintao Wei",
      "photoUrl": "https://lh3.googleusercontent.com/a-/AOh14GjUHrwTX0bIeMcYDzrk5ktRiVbgauRzY5ALVxYZ=s64",
      "userId": "12058205070896827997"
     },
     "user_tz": -480
    },
    "id": "fruBkzSJ2nie"
   },
   "outputs": [],
   "source": [
    "test = pd.read_csv('/content/drive/My Drive/Colab Notebooks/Kaggle/test.gz', sep = \",\", delimiter=',',dtype={'id': str})"
   ]
  },
  {
   "cell_type": "code",
   "execution_count": 5,
   "metadata": {
    "collapsed": true,
    "executionInfo": {
     "elapsed": 202287,
     "status": "ok",
     "timestamp": 1610018601443,
     "user": {
      "displayName": "mintao Wei",
      "photoUrl": "https://lh3.googleusercontent.com/a-/AOh14GjUHrwTX0bIeMcYDzrk5ktRiVbgauRzY5ALVxYZ=s64",
      "userId": "12058205070896827997"
     },
     "user_tz": -480
    },
    "id": "yyPWgZJM2nif"
   },
   "outputs": [],
   "source": [
    "# Undersample to recreate a balanced training set\n",
    "x_train = train[train['click'] == 0].sample(n=len(train[train['click'] == 1]), random_state=111)\n",
    "x_train = pd.concat([x_train, train[train['click'] == 1]]).sample(frac=1)\n",
    "y_train = x_train[['click']]\n",
    "x_train.drop(['click'], axis=1, inplace=True)\n",
    "x_test = test"
   ]
  },
  {
   "cell_type": "code",
   "execution_count": 6,
   "metadata": {
    "executionInfo": {
     "elapsed": 207897,
     "status": "ok",
     "timestamp": 1610018607143,
     "user": {
      "displayName": "mintao Wei",
      "photoUrl": "https://lh3.googleusercontent.com/a-/AOh14GjUHrwTX0bIeMcYDzrk5ktRiVbgauRzY5ALVxYZ=s64",
      "userId": "12058205070896827997"
     },
     "user_tz": -480
    },
    "id": "manhjlpR2nif"
   },
   "outputs": [],
   "source": [
    "# concat the test dataset and train dataset, drop the id column\n",
    "df1 = pd.concat([x_train,x_test],axis = 0, ignore_index = True).drop(\"id\",1)"
   ]
  },
  {
   "cell_type": "markdown",
   "metadata": {
    "id": "TF1zFpQO2nig"
   },
   "source": [
    "## STEP 2: Exploratory Data Analysis (EDA)"
   ]
  },
  {
   "cell_type": "markdown",
   "metadata": {
    "id": "K3hzXbLx2nig"
   },
   "source": [
    "### 2-1. Correlations (Brief)"
   ]
  },
  {
   "cell_type": "code",
   "execution_count": 7,
   "metadata": {
    "colab": {
     "base_uri": "https://localhost:8080/"
    },
    "executionInfo": {
     "elapsed": 207416,
     "status": "ok",
     "timestamp": 1610018607145,
     "user": {
      "displayName": "mintao Wei",
      "photoUrl": "https://lh3.googleusercontent.com/a-/AOh14GjUHrwTX0bIeMcYDzrk5ktRiVbgauRzY5ALVxYZ=s64",
      "userId": "12058205070896827997"
     },
     "user_tz": -480
    },
    "id": "xxr34LU72nih",
    "outputId": "4baaeb5e-aaa2-47db-d201-385fedbc2dd2"
   },
   "outputs": [
    {
     "name": "stdout",
     "output_type": "stream",
     "text": [
      "click               1.00\n",
      "C16                 0.13\n",
      "device_conn_type    0.09\n",
      "C21                 0.07\n",
      "C14                 0.06\n",
      "C20                 0.06\n",
      "C17                 0.06\n",
      "device_type         0.04\n",
      "C1                  0.04\n",
      "C15                 0.03\n",
      "banner_pos          0.03\n",
      "C18                 0.02\n",
      "index               0.01\n",
      "hour                0.01\n",
      "C19                 0.00\n",
      "id                  0.00\n",
      "Name: click, dtype: float64\n"
     ]
    }
   ],
   "source": [
    "#lets create heatmap first of all lest see on which feature SalePrice is dependent\n",
    "abs_corr_with_y = abs(train.corr()[\"click\"]).sort_values(ascending=False).round(2)\n",
    "print(abs_corr_with_y)"
   ]
  },
  {
   "cell_type": "markdown",
   "metadata": {
    "id": "jC6Of6cn2nih"
   },
   "source": [
    "### 2-2. First let's take a look at the structure of the datasets(dtypes, value_counts, null_counts)"
   ]
  },
  {
   "cell_type": "code",
   "execution_count": 8,
   "metadata": {
    "colab": {
     "base_uri": "https://localhost:8080/",
     "height": 652
    },
    "executionInfo": {
     "elapsed": 213405,
     "status": "ok",
     "timestamp": 1610018613468,
     "user": {
      "displayName": "mintao Wei",
      "photoUrl": "https://lh3.googleusercontent.com/a-/AOh14GjUHrwTX0bIeMcYDzrk5ktRiVbgauRzY5ALVxYZ=s64",
      "userId": "12058205070896827997"
     },
     "user_tz": -480
    },
    "id": "EqnZsHQ02nih",
    "outputId": "91a91050-b659-46ef-b9cb-3daddec93b6b"
   },
   "outputs": [
    {
     "name": "stdout",
     "output_type": "stream",
     "text": [
      "the dataset consists of 4715238 rows and 23 cols\n",
      "-------------------------------------------\n",
      "                 data_types  value_counts  null_counts\n",
      "device_ip            object       1145740            0\n",
      "device_id            object        311974            0\n",
      "index               float64        137774      4577464\n",
      "device_model         object          5564            0\n",
      "app_id               object          4243            0\n",
      "site_domain          object          3504            0\n",
      "site_id              object          2978            0\n",
      "C14                   int64          2267            0\n",
      "C17                   int64           456            0\n",
      "hour                  int64           264            0\n",
      "app_domain           object           225            0\n",
      "C20                   int64           165            0\n",
      "C19                   int64            67            0\n",
      "C21                   int64            62            0\n",
      "app_category         object            29            0\n",
      "site_category        object            23            0\n",
      "C16                   int64             9            0\n",
      "C15                   int64             8            0\n",
      "banner_pos            int64             7            0\n",
      "C1                    int64             7            0\n",
      "C18                   int64             4            0\n",
      "device_conn_type      int64             4            0\n",
      "device_type           int64             4            0\n"
     ]
    },
    {
     "data": {
      "text/html": [
       "<div>\n",
       "<style scoped>\n",
       "    .dataframe tbody tr th:only-of-type {\n",
       "        vertical-align: middle;\n",
       "    }\n",
       "\n",
       "    .dataframe tbody tr th {\n",
       "        vertical-align: top;\n",
       "    }\n",
       "\n",
       "    .dataframe thead th {\n",
       "        text-align: right;\n",
       "    }\n",
       "</style>\n",
       "<table border=\"1\" class=\"dataframe\">\n",
       "  <thead>\n",
       "    <tr style=\"text-align: right;\">\n",
       "      <th></th>\n",
       "      <th>index</th>\n",
       "      <th>hour</th>\n",
       "      <th>C1</th>\n",
       "      <th>banner_pos</th>\n",
       "      <th>site_id</th>\n",
       "      <th>site_domain</th>\n",
       "      <th>site_category</th>\n",
       "      <th>app_id</th>\n",
       "      <th>app_domain</th>\n",
       "      <th>app_category</th>\n",
       "      <th>device_id</th>\n",
       "      <th>device_ip</th>\n",
       "      <th>device_model</th>\n",
       "      <th>device_type</th>\n",
       "      <th>device_conn_type</th>\n",
       "      <th>C14</th>\n",
       "      <th>C15</th>\n",
       "      <th>C16</th>\n",
       "      <th>C17</th>\n",
       "      <th>C18</th>\n",
       "      <th>C19</th>\n",
       "      <th>C20</th>\n",
       "      <th>C21</th>\n",
       "    </tr>\n",
       "  </thead>\n",
       "  <tbody>\n",
       "    <tr>\n",
       "      <th>0</th>\n",
       "      <td>35870295.0</td>\n",
       "      <td>14102920</td>\n",
       "      <td>1005</td>\n",
       "      <td>0</td>\n",
       "      <td>85f751fd</td>\n",
       "      <td>c4e18dd6</td>\n",
       "      <td>50e219e0</td>\n",
       "      <td>e2a1ca37</td>\n",
       "      <td>2347f47a</td>\n",
       "      <td>8ded1f7a</td>\n",
       "      <td>a99f214a</td>\n",
       "      <td>33ad8d0b</td>\n",
       "      <td>7b7ca585</td>\n",
       "      <td>1</td>\n",
       "      <td>0</td>\n",
       "      <td>17017</td>\n",
       "      <td>320</td>\n",
       "      <td>50</td>\n",
       "      <td>1873</td>\n",
       "      <td>3</td>\n",
       "      <td>39</td>\n",
       "      <td>-1</td>\n",
       "      <td>23</td>\n",
       "    </tr>\n",
       "    <tr>\n",
       "      <th>1</th>\n",
       "      <td>32738319.0</td>\n",
       "      <td>14102903</td>\n",
       "      <td>1005</td>\n",
       "      <td>1</td>\n",
       "      <td>3dc2d6de</td>\n",
       "      <td>e2a5dc06</td>\n",
       "      <td>3e814130</td>\n",
       "      <td>ecad2386</td>\n",
       "      <td>7801e8d9</td>\n",
       "      <td>07d7df22</td>\n",
       "      <td>a99f214a</td>\n",
       "      <td>2456777f</td>\n",
       "      <td>eba9519f</td>\n",
       "      <td>1</td>\n",
       "      <td>0</td>\n",
       "      <td>22680</td>\n",
       "      <td>320</td>\n",
       "      <td>50</td>\n",
       "      <td>2528</td>\n",
       "      <td>0</td>\n",
       "      <td>39</td>\n",
       "      <td>100081</td>\n",
       "      <td>221</td>\n",
       "    </tr>\n",
       "    <tr>\n",
       "      <th>2</th>\n",
       "      <td>35892757.0</td>\n",
       "      <td>14102920</td>\n",
       "      <td>1005</td>\n",
       "      <td>1</td>\n",
       "      <td>e151e245</td>\n",
       "      <td>7e091613</td>\n",
       "      <td>f028772b</td>\n",
       "      <td>ecad2386</td>\n",
       "      <td>7801e8d9</td>\n",
       "      <td>07d7df22</td>\n",
       "      <td>a99f214a</td>\n",
       "      <td>9f1bf14d</td>\n",
       "      <td>7abbbd5c</td>\n",
       "      <td>1</td>\n",
       "      <td>0</td>\n",
       "      <td>23723</td>\n",
       "      <td>320</td>\n",
       "      <td>50</td>\n",
       "      <td>2716</td>\n",
       "      <td>3</td>\n",
       "      <td>47</td>\n",
       "      <td>-1</td>\n",
       "      <td>23</td>\n",
       "    </tr>\n",
       "    <tr>\n",
       "      <th>3</th>\n",
       "      <td>36224949.0</td>\n",
       "      <td>14103000</td>\n",
       "      <td>1005</td>\n",
       "      <td>1</td>\n",
       "      <td>e151e245</td>\n",
       "      <td>7e091613</td>\n",
       "      <td>f028772b</td>\n",
       "      <td>ecad2386</td>\n",
       "      <td>7801e8d9</td>\n",
       "      <td>07d7df22</td>\n",
       "      <td>a99f214a</td>\n",
       "      <td>13966a32</td>\n",
       "      <td>0b188ab3</td>\n",
       "      <td>1</td>\n",
       "      <td>0</td>\n",
       "      <td>23725</td>\n",
       "      <td>320</td>\n",
       "      <td>50</td>\n",
       "      <td>2716</td>\n",
       "      <td>3</td>\n",
       "      <td>47</td>\n",
       "      <td>-1</td>\n",
       "      <td>23</td>\n",
       "    </tr>\n",
       "    <tr>\n",
       "      <th>4</th>\n",
       "      <td>1562549.0</td>\n",
       "      <td>14102107</td>\n",
       "      <td>1005</td>\n",
       "      <td>0</td>\n",
       "      <td>85f751fd</td>\n",
       "      <td>c4e18dd6</td>\n",
       "      <td>50e219e0</td>\n",
       "      <td>422da614</td>\n",
       "      <td>2347f47a</td>\n",
       "      <td>0f2161f8</td>\n",
       "      <td>a99f214a</td>\n",
       "      <td>01fa34f2</td>\n",
       "      <td>42de6880</td>\n",
       "      <td>1</td>\n",
       "      <td>0</td>\n",
       "      <td>21660</td>\n",
       "      <td>320</td>\n",
       "      <td>50</td>\n",
       "      <td>2446</td>\n",
       "      <td>3</td>\n",
       "      <td>171</td>\n",
       "      <td>100228</td>\n",
       "      <td>156</td>\n",
       "    </tr>\n",
       "  </tbody>\n",
       "</table>\n",
       "</div>"
      ],
      "text/plain": [
       "        index      hour    C1  banner_pos  ... C18  C19     C20  C21\n",
       "0  35870295.0  14102920  1005           0  ...   3   39      -1   23\n",
       "1  32738319.0  14102903  1005           1  ...   0   39  100081  221\n",
       "2  35892757.0  14102920  1005           1  ...   3   47      -1   23\n",
       "3  36224949.0  14103000  1005           1  ...   3   47      -1   23\n",
       "4   1562549.0  14102107  1005           0  ...   3  171  100228  156\n",
       "\n",
       "[5 rows x 23 columns]"
      ]
     },
     "execution_count": 8,
     "metadata": {
      "tags": []
     },
     "output_type": "execute_result"
    }
   ],
   "source": [
    "print(f\"the dataset consists of {df1.shape[0]} rows and {df1.shape[1]} cols\\n-------------------------------------------\")\n",
    "print(pd.DataFrame({\"data_types\":df1.dtypes, \n",
    "                    \"value_counts\": df1.nunique(),\n",
    "                   \"null_counts\": df1.isnull().sum()}).set_index(df1.dtypes.index).\n",
    "      sort_values(by = \"value_counts\", ascending = False))\n",
    "\n",
    "df1.head()"
   ]
  },
  {
   "cell_type": "markdown",
   "metadata": {
    "id": "OR4WGxz42nii"
   },
   "source": [
    "## STEP 3: Feature Engineering\n",
    "Data are pretty clean, as there is no missing values"
   ]
  },
  {
   "cell_type": "markdown",
   "metadata": {
    "id": "5tlqgDaC2nii"
   },
   "source": [
    "### 3-1. Transform the \"hour\" column\n",
    "As pointed out by Akishen, we are predicting the CTR in the 11th day using the past 10 days traffic, thus leaving \"month\"&\"year\" meaningless."
   ]
  },
  {
   "cell_type": "code",
   "execution_count": 9,
   "metadata": {
    "colab": {
     "base_uri": "https://localhost:8080/",
     "height": 166
    },
    "executionInfo": {
     "elapsed": 260369,
     "status": "ok",
     "timestamp": 1610018660910,
     "user": {
      "displayName": "mintao Wei",
      "photoUrl": "https://lh3.googleusercontent.com/a-/AOh14GjUHrwTX0bIeMcYDzrk5ktRiVbgauRzY5ALVxYZ=s64",
      "userId": "12058205070896827997"
     },
     "user_tz": -480
    },
    "id": "VJpujbH22nij",
    "outputId": "a325b1e8-7c97-40be-a32d-695952a2bee9"
   },
   "outputs": [
    {
     "data": {
      "text/html": [
       "<div>\n",
       "<style scoped>\n",
       "    .dataframe tbody tr th:only-of-type {\n",
       "        vertical-align: middle;\n",
       "    }\n",
       "\n",
       "    .dataframe tbody tr th {\n",
       "        vertical-align: top;\n",
       "    }\n",
       "\n",
       "    .dataframe thead th {\n",
       "        text-align: right;\n",
       "    }\n",
       "</style>\n",
       "<table border=\"1\" class=\"dataframe\">\n",
       "  <thead>\n",
       "    <tr style=\"text-align: right;\">\n",
       "      <th></th>\n",
       "      <th>day_zone</th>\n",
       "      <th>week_day</th>\n",
       "    </tr>\n",
       "  </thead>\n",
       "  <tbody>\n",
       "    <tr>\n",
       "      <th>count</th>\n",
       "      <td>4715238</td>\n",
       "      <td>4715238</td>\n",
       "    </tr>\n",
       "    <tr>\n",
       "      <th>unique</th>\n",
       "      <td>4</td>\n",
       "      <td>7</td>\n",
       "    </tr>\n",
       "    <tr>\n",
       "      <th>top</th>\n",
       "      <td>morning</td>\n",
       "      <td>5</td>\n",
       "    </tr>\n",
       "    <tr>\n",
       "      <th>freq</th>\n",
       "      <td>1631392</td>\n",
       "      <td>4588961</td>\n",
       "    </tr>\n",
       "  </tbody>\n",
       "</table>\n",
       "</div>"
      ],
      "text/plain": [
       "       day_zone week_day\n",
       "count   4715238  4715238\n",
       "unique        4        7\n",
       "top     morning        5\n",
       "freq    1631392  4588961"
      ]
     },
     "execution_count": 9,
     "metadata": {
      "tags": []
     },
     "output_type": "execute_result"
    }
   ],
   "source": [
    "# hour: format is YYMMDDHH, so 14091123 means 23:00 on Sept. 11, 2014 UTC.\n",
    "from datetime import datetime\n",
    "# Get the dayzone (generating 4 fields with every 6 hour within a day)\n",
    "def hour_to_dayzone(hour):\n",
    "    '''\n",
    "    Input: an string originally from the df1[\"hour\"]\n",
    "    '''\n",
    "    hour_int = int(str(hour)[6:8])\n",
    "    if hour_int >= 0 and hour_int < 6:\n",
    "        dayzone = \"early_morning\"\n",
    "    elif hour_int >= 6 and hour_int < 12:\n",
    "        dayzone = \"morning\"\n",
    "    elif hour_int >= 12 and hour_int < 18:\n",
    "        dayzone = \"afternoon\"\n",
    "    elif hour_int >= 18 and hour_int < 24:\n",
    "        dayzone = \"night\"\n",
    "    return dayzone\n",
    "    \n",
    "df1[\"day_zone\"] = df1[\"hour\"].apply(lambda x:hour_to_dayzone(x))\n",
    "\n",
    "# Get the weekday\n",
    "df1[\"week_day\"] = df1[\"hour\"].apply(lambda x:(datetime.strptime(str(x)[:6],\"%y%m%d\").weekday()+1)).astype(str)\n",
    "\n",
    "df1 = df1.drop(\"hour\",axis = 1)\n",
    "df1[[\"day_zone\",\"week_day\"]].describe()"
   ]
  },
  {
   "cell_type": "markdown",
   "metadata": {
    "id": "A5b84KrP2nij"
   },
   "source": [
    "### 3-2. Convert all columns to categorical variables\n",
    "Based on the discussion notes provided by the contest host, \"*all numerical measures in this dataset are actually categorical variables*\". So first we do the conversion"
   ]
  },
  {
   "cell_type": "code",
   "execution_count": 10,
   "metadata": {
    "colab": {
     "base_uri": "https://localhost:8080/"
    },
    "executionInfo": {
     "elapsed": 317757,
     "status": "ok",
     "timestamp": 1610018718652,
     "user": {
      "displayName": "mintao Wei",
      "photoUrl": "https://lh3.googleusercontent.com/a-/AOh14GjUHrwTX0bIeMcYDzrk5ktRiVbgauRzY5ALVxYZ=s64",
      "userId": "12058205070896827997"
     },
     "user_tz": -480
    },
    "id": "RKCVweVy2nij",
    "outputId": "0c3fd9b8-e0f8-4e7e-f103-20195f172a2c"
   },
   "outputs": [
    {
     "name": "stdout",
     "output_type": "stream",
     "text": [
      "index               object\n",
      "C1                  object\n",
      "banner_pos          object\n",
      "site_id             object\n",
      "site_domain         object\n",
      "site_category       object\n",
      "app_id              object\n",
      "app_domain          object\n",
      "app_category        object\n",
      "device_id           object\n",
      "device_ip           object\n",
      "device_model        object\n",
      "device_type         object\n",
      "device_conn_type    object\n",
      "C14                 object\n",
      "C15                 object\n",
      "C16                 object\n",
      "C17                 object\n",
      "C18                 object\n",
      "C19                 object\n",
      "C20                 object\n",
      "C21                 object\n",
      "day_zone            object\n",
      "week_day            object\n",
      "dtype: object\n"
     ]
    }
   ],
   "source": [
    "# convert integer columns to string according to the instructions provided\n",
    "for col in df1.columns:\n",
    "    df1[col] = df1[col].astype(str)\n",
    "print(df1.dtypes)"
   ]
  },
  {
   "cell_type": "markdown",
   "metadata": {
    "id": "mvrNaFtA2nik"
   },
   "source": [
    "### 3-3. Feature Creation"
   ]
  },
  {
   "cell_type": "code",
   "execution_count": 11,
   "metadata": {
    "executionInfo": {
     "elapsed": 318589,
     "status": "ok",
     "timestamp": 1610018719950,
     "user": {
      "displayName": "mintao Wei",
      "photoUrl": "https://lh3.googleusercontent.com/a-/AOh14GjUHrwTX0bIeMcYDzrk5ktRiVbgauRzY5ALVxYZ=s64",
      "userId": "12058205070896827997"
     },
     "user_tz": -480
    },
    "id": "73-eYOcS2nik"
   },
   "outputs": [],
   "source": [
    "# create a user_id for counting and bagging purposes, followed by the 4-idiots approach\n",
    "df1[\"user_id\"] = df1[\"device_ip\"].str.cat(df1[\"device_model\"], sep = \"-\")"
   ]
  },
  {
   "cell_type": "markdown",
   "metadata": {
    "id": "ZMAmypJt2nik"
   },
   "source": [
    "#### Counting features\n",
    "Counting features include:\n",
    "• device ip count\n",
    "• device id count\n",
    "• user count\n",
    "• day_zone + week_day count"
   ]
  },
  {
   "cell_type": "code",
   "execution_count": 12,
   "metadata": {
    "collapsed": true,
    "executionInfo": {
     "elapsed": 414330,
     "status": "ok",
     "timestamp": 1610018815898,
     "user": {
      "displayName": "mintao Wei",
      "photoUrl": "https://lh3.googleusercontent.com/a-/AOh14GjUHrwTX0bIeMcYDzrk5ktRiVbgauRzY5ALVxYZ=s64",
      "userId": "12058205070896827997"
     },
     "user_tz": -480
    },
    "id": "Vk3D2Ziz2nil"
   },
   "outputs": [],
   "source": [
    "device_ip_count = df1[:len(x_train)].groupby(\"device_ip\").device_ip.count()\n",
    "device_id_count = df1[:len(x_train)].groupby(\"device_id\").device_id.count()\n",
    "day_zone_count = df1[:len(x_train)].groupby(\"day_zone\").day_zone.count()\n",
    "week_day_count = df1[:len(x_train)].groupby(\"week_day\").week_day.count()\n",
    "user_id_count = df1[:len(x_train)].groupby(\"user_id\").user_id.count()\n",
    "\n",
    "def count_imput(df1, col, count_series):\n",
    "    '''\n",
    "    This function imputes the count for each categorical value\n",
    "    Input:\n",
    "        df1(dataframe), col(column_name), count_series\n",
    "    '''\n",
    "    def imput(x):\n",
    "        try:\n",
    "            return count_series[x]\n",
    "        except:\n",
    "            return 0\n",
    "    new_col = col + \"_count\"\n",
    "    df1[new_col] = list(map(imput, df1[col]))\n",
    "\n",
    "    \n",
    "\n",
    "count_imput(df1, \"device_ip\", device_ip_count)\n",
    "count_imput(df1, \"device_id\", device_id_count)\n",
    "count_imput(df1, \"day_zone\", day_zone_count)\n",
    "count_imput(df1, \"week_day\", week_day_count)\n",
    "count_imput(df1, \"user_id\", user_id_count)"
   ]
  },
  {
   "cell_type": "code",
   "execution_count": 13,
   "metadata": {
    "colab": {
     "base_uri": "https://localhost:8080/",
     "height": 343
    },
    "executionInfo": {
     "elapsed": 418959,
     "status": "ok",
     "timestamp": 1610018820705,
     "user": {
      "displayName": "mintao Wei",
      "photoUrl": "https://lh3.googleusercontent.com/a-/AOh14GjUHrwTX0bIeMcYDzrk5ktRiVbgauRzY5ALVxYZ=s64",
      "userId": "12058205070896827997"
     },
     "user_tz": -480
    },
    "id": "9719zoc12nil",
    "outputId": "c7378962-e2e4-4ed9-91be-5a5fc6f7c70c"
   },
   "outputs": [
    {
     "data": {
      "text/html": [
       "<div>\n",
       "<style scoped>\n",
       "    .dataframe tbody tr th:only-of-type {\n",
       "        vertical-align: middle;\n",
       "    }\n",
       "\n",
       "    .dataframe tbody tr th {\n",
       "        vertical-align: top;\n",
       "    }\n",
       "\n",
       "    .dataframe thead th {\n",
       "        text-align: right;\n",
       "    }\n",
       "</style>\n",
       "<table border=\"1\" class=\"dataframe\">\n",
       "  <thead>\n",
       "    <tr style=\"text-align: right;\">\n",
       "      <th></th>\n",
       "      <th>device_ip</th>\n",
       "      <th>device_id</th>\n",
       "      <th>day_zone</th>\n",
       "      <th>week_day</th>\n",
       "      <th>user_id</th>\n",
       "      <th>device_ip_count</th>\n",
       "      <th>device_id_count</th>\n",
       "      <th>day_zone_count</th>\n",
       "      <th>week_day_count</th>\n",
       "      <th>user_id_count</th>\n",
       "    </tr>\n",
       "  </thead>\n",
       "  <tbody>\n",
       "    <tr>\n",
       "      <th>0</th>\n",
       "      <td>33ad8d0b</td>\n",
       "      <td>a99f214a</td>\n",
       "      <td>night</td>\n",
       "      <td>3</td>\n",
       "      <td>33ad8d0b-7b7ca585</td>\n",
       "      <td>1</td>\n",
       "      <td>114782</td>\n",
       "      <td>23333</td>\n",
       "      <td>30388</td>\n",
       "      <td>1</td>\n",
       "    </tr>\n",
       "    <tr>\n",
       "      <th>1</th>\n",
       "      <td>2456777f</td>\n",
       "      <td>a99f214a</td>\n",
       "      <td>early_morning</td>\n",
       "      <td>3</td>\n",
       "      <td>2456777f-eba9519f</td>\n",
       "      <td>2</td>\n",
       "      <td>114782</td>\n",
       "      <td>28703</td>\n",
       "      <td>30388</td>\n",
       "      <td>1</td>\n",
       "    </tr>\n",
       "    <tr>\n",
       "      <th>2</th>\n",
       "      <td>9f1bf14d</td>\n",
       "      <td>a99f214a</td>\n",
       "      <td>night</td>\n",
       "      <td>3</td>\n",
       "      <td>9f1bf14d-7abbbd5c</td>\n",
       "      <td>1</td>\n",
       "      <td>114782</td>\n",
       "      <td>23333</td>\n",
       "      <td>30388</td>\n",
       "      <td>1</td>\n",
       "    </tr>\n",
       "    <tr>\n",
       "      <th>3</th>\n",
       "      <td>13966a32</td>\n",
       "      <td>a99f214a</td>\n",
       "      <td>early_morning</td>\n",
       "      <td>4</td>\n",
       "      <td>13966a32-0b188ab3</td>\n",
       "      <td>1</td>\n",
       "      <td>114782</td>\n",
       "      <td>28703</td>\n",
       "      <td>27765</td>\n",
       "      <td>1</td>\n",
       "    </tr>\n",
       "    <tr>\n",
       "      <th>4</th>\n",
       "      <td>01fa34f2</td>\n",
       "      <td>a99f214a</td>\n",
       "      <td>morning</td>\n",
       "      <td>2</td>\n",
       "      <td>01fa34f2-42de6880</td>\n",
       "      <td>3</td>\n",
       "      <td>114782</td>\n",
       "      <td>41169</td>\n",
       "      <td>31754</td>\n",
       "      <td>3</td>\n",
       "    </tr>\n",
       "    <tr>\n",
       "      <th>5</th>\n",
       "      <td>a42edc21</td>\n",
       "      <td>009d61f7</td>\n",
       "      <td>night</td>\n",
       "      <td>4</td>\n",
       "      <td>a42edc21-e5c6e4b1</td>\n",
       "      <td>1</td>\n",
       "      <td>1</td>\n",
       "      <td>23333</td>\n",
       "      <td>27765</td>\n",
       "      <td>1</td>\n",
       "    </tr>\n",
       "    <tr>\n",
       "      <th>6</th>\n",
       "      <td>948c4fdb</td>\n",
       "      <td>a99f214a</td>\n",
       "      <td>afternoon</td>\n",
       "      <td>6</td>\n",
       "      <td>948c4fdb-981edffc</td>\n",
       "      <td>2</td>\n",
       "      <td>114782</td>\n",
       "      <td>44569</td>\n",
       "      <td>11685</td>\n",
       "      <td>1</td>\n",
       "    </tr>\n",
       "    <tr>\n",
       "      <th>7</th>\n",
       "      <td>6432d8f6</td>\n",
       "      <td>8e1a7bd0</td>\n",
       "      <td>morning</td>\n",
       "      <td>3</td>\n",
       "      <td>6432d8f6-f07e20f8</td>\n",
       "      <td>1</td>\n",
       "      <td>1</td>\n",
       "      <td>41169</td>\n",
       "      <td>30388</td>\n",
       "      <td>1</td>\n",
       "    </tr>\n",
       "    <tr>\n",
       "      <th>8</th>\n",
       "      <td>9bd7de5c</td>\n",
       "      <td>a99f214a</td>\n",
       "      <td>morning</td>\n",
       "      <td>3</td>\n",
       "      <td>9bd7de5c-25cfc3c9</td>\n",
       "      <td>1</td>\n",
       "      <td>114782</td>\n",
       "      <td>41169</td>\n",
       "      <td>30388</td>\n",
       "      <td>1</td>\n",
       "    </tr>\n",
       "    <tr>\n",
       "      <th>9</th>\n",
       "      <td>1a4ab890</td>\n",
       "      <td>a99f214a</td>\n",
       "      <td>morning</td>\n",
       "      <td>6</td>\n",
       "      <td>1a4ab890-c144e605</td>\n",
       "      <td>1</td>\n",
       "      <td>114782</td>\n",
       "      <td>41169</td>\n",
       "      <td>11685</td>\n",
       "      <td>1</td>\n",
       "    </tr>\n",
       "  </tbody>\n",
       "</table>\n",
       "</div>"
      ],
      "text/plain": [
       "  device_ip device_id  ... week_day_count user_id_count\n",
       "0  33ad8d0b  a99f214a  ...          30388             1\n",
       "1  2456777f  a99f214a  ...          30388             1\n",
       "2  9f1bf14d  a99f214a  ...          30388             1\n",
       "3  13966a32  a99f214a  ...          27765             1\n",
       "4  01fa34f2  a99f214a  ...          31754             3\n",
       "5  a42edc21  009d61f7  ...          27765             1\n",
       "6  948c4fdb  a99f214a  ...          11685             1\n",
       "7  6432d8f6  8e1a7bd0  ...          30388             1\n",
       "8  9bd7de5c  a99f214a  ...          30388             1\n",
       "9  1a4ab890  a99f214a  ...          11685             1\n",
       "\n",
       "[10 rows x 10 columns]"
      ]
     },
     "execution_count": 13,
     "metadata": {
      "tags": []
     },
     "output_type": "execute_result"
    }
   ],
   "source": [
    "df1[[\"device_ip\", \"device_id\", \"day_zone\", \"week_day\", \"user_id\",\n",
    "     \"device_ip_count\", \"device_id_count\", \"day_zone_count\", \"week_day_count\", \"user_id_count\"]].head(10)"
   ]
  },
  {
   "cell_type": "markdown",
   "metadata": {
    "id": "FIKvuI7Z2nin"
   },
   "source": [
    "#### Bagging features\n",
    "For each user, we add bags of features. For example, if we have user1 associated with app id-A and app id-B, and user2 associated with app id-C and app id-D, then we generate an additional feature bag of app id"
   ]
  },
  {
   "cell_type": "code",
   "execution_count": 14,
   "metadata": {
    "collapsed": true,
    "executionInfo": {
     "elapsed": 437358,
     "status": "ok",
     "timestamp": 1610018839642,
     "user": {
      "displayName": "mintao Wei",
      "photoUrl": "https://lh3.googleusercontent.com/a-/AOh14GjUHrwTX0bIeMcYDzrk5ktRiVbgauRzY5ALVxYZ=s64",
      "userId": "12058205070896827997"
     },
     "user_tz": -480
    },
    "id": "h4WG2sqU2nin",
    "scrolled": true
   },
   "outputs": [],
   "source": [
    "app_id_bag = df1[:len(x_train)].groupby('user_id')['app_id'].apply(lambda x:x.str.cat(sep=','))\n",
    "#app_id_bag"
   ]
  },
  {
   "cell_type": "code",
   "execution_count": 15,
   "metadata": {
    "collapsed": true,
    "executionInfo": {
     "elapsed": 456002,
     "status": "ok",
     "timestamp": 1610018858346,
     "user": {
      "displayName": "mintao Wei",
      "photoUrl": "https://lh3.googleusercontent.com/a-/AOh14GjUHrwTX0bIeMcYDzrk5ktRiVbgauRzY5ALVxYZ=s64",
      "userId": "12058205070896827997"
     },
     "user_tz": -480
    },
    "id": "trUvPos32nin"
   },
   "outputs": [],
   "source": [
    "# Impute all user_id with corresponding app_id_bag\n",
    "def imput_bag(x):\n",
    "    try:\n",
    "        return app_id_bag[x]\n",
    "    except:\n",
    "        return \"no_app_id_bags\"\n",
    "df1[\"app_id_bag\"] = list(map(imput_bag, df1[\"user_id\"]))\n",
    "#df1[\"app_id_bag\"]"
   ]
  },
  {
   "cell_type": "markdown",
   "metadata": {
    "id": "XQJDy71S2nio"
   },
   "source": [
    "#### Click History\n",
    "We generate a click history feature for users who have device id information, using the value_transform function (because we only have click data for x_train, not for the entire df1, which also consists of x_test)"
   ]
  },
  {
   "cell_type": "code",
   "execution_count": 16,
   "metadata": {
    "colab": {
     "base_uri": "https://localhost:8080/"
    },
    "executionInfo": {
     "elapsed": 471782,
     "status": "ok",
     "timestamp": 1610018874307,
     "user": {
      "displayName": "mintao Wei",
      "photoUrl": "https://lh3.googleusercontent.com/a-/AOh14GjUHrwTX0bIeMcYDzrk5ktRiVbgauRzY5ALVxYZ=s64",
      "userId": "12058205070896827997"
     },
     "user_tz": -480
    },
    "id": "J8K-cbDm2nio",
    "outputId": "48dd884f-0dd0-4f89-b2d3-39b537f70360",
    "scrolled": true
   },
   "outputs": [
    {
     "name": "stderr",
     "output_type": "stream",
     "text": [
      "/usr/local/lib/python3.6/dist-packages/ipykernel_launcher.py:3: SettingWithCopyWarning: \n",
      "A value is trying to be set on a copy of a slice from a DataFrame.\n",
      "Try using .loc[row_indexer,col_indexer] = value instead\n",
      "\n",
      "See the caveats in the documentation: https://pandas.pydata.org/pandas-docs/stable/user_guide/indexing.html#returning-a-view-versus-a-copy\n",
      "  This is separate from the ipykernel package so we can avoid doing imports until\n"
     ]
    },
    {
     "data": {
      "text/plain": [
       "user_id\n",
       "0001e4a0-fce66524    1\n",
       "00030c56-496515fa    0\n",
       "00030c56-981edffc    0\n",
       "00030c56-9e3836ff    0\n",
       "000415c7-fce66524    1\n",
       "Name: click, dtype: object"
      ]
     },
     "execution_count": 16,
     "metadata": {
      "tags": []
     },
     "output_type": "execute_result"
    }
   ],
   "source": [
    "accum = []\n",
    "temp_train_with_click = df1[:len(x_train)]\n",
    "temp_train_with_click[\"click\"] = list(map(str,y_train.click))\n",
    "hist_clicks = temp_train_with_click.groupby('user_id')['click'].apply(lambda x: x.str.cat(sep='-'))\n",
    "hist_clicks.head()\n",
    "#user_hist_clicks = temp_train_with_click.groupby('user_id')[\"click\"].cumsum()\n",
    "#user_hist_clicks = pd.DataFrame({\"user_id\":temp_train_with_click.user_id,\n",
    "#                                \"hist_clicks\": temp_train_with_click.groupby('user_id')[\"click\"].cumsum()})\n"
   ]
  },
  {
   "cell_type": "code",
   "execution_count": 17,
   "metadata": {
    "colab": {
     "base_uri": "https://localhost:8080/"
    },
    "executionInfo": {
     "elapsed": 490495,
     "status": "ok",
     "timestamp": 1610018893091,
     "user": {
      "displayName": "mintao Wei",
      "photoUrl": "https://lh3.googleusercontent.com/a-/AOh14GjUHrwTX0bIeMcYDzrk5ktRiVbgauRzY5ALVxYZ=s64",
      "userId": "12058205070896827997"
     },
     "user_tz": -480
    },
    "id": "DOJmIu3n2nip",
    "outputId": "55039c33-043a-473e-c3a7-04ec4943e916"
   },
   "outputs": [
    {
     "data": {
      "text/plain": [
       "unknown          4219511\n",
       "0                 134466\n",
       "1                 131382\n",
       "1-1                16431\n",
       "0-0                15485\n",
       "                  ...   \n",
       "1-1-1-1-1-1-0          7\n",
       "0-1-1-0-0-0            6\n",
       "0-0-1-0-1-0            6\n",
       "0-0-1-0-0-1            6\n",
       "0-0-0-1-1              5\n",
       "Name: hist_clicks, Length: 448, dtype: int64"
      ]
     },
     "execution_count": 17,
     "metadata": {
      "tags": []
     },
     "output_type": "execute_result"
    }
   ],
   "source": [
    "# Impute all user_id with corresponding app_id_bag\n",
    "def imput_hist_clicks(x):\n",
    "    try:\n",
    "        return hist_clicks[x]\n",
    "    except:\n",
    "        return \"unknown\"\n",
    "df1[\"hist_clicks\"] = list(map(imput_hist_clicks, df1[\"user_id\"]))\n",
    "df1[\"hist_clicks\"].value_counts()"
   ]
  },
  {
   "cell_type": "markdown",
   "metadata": {
    "id": "_uD6UP122niq"
   },
   "source": [
    "### 3-4. Dimension reduction\n",
    "Since most variables contain a hugh number of unique values, there is going to be a dimension exclosion if we directly do OHE out of it. Therefore, we shrink the high-dim columns according to their relative click-through frequencies"
   ]
  },
  {
   "cell_type": "code",
   "execution_count": 18,
   "metadata": {
    "colab": {
     "base_uri": "https://localhost:8080/"
    },
    "executionInfo": {
     "elapsed": 507106,
     "status": "ok",
     "timestamp": 1610018909874,
     "user": {
      "displayName": "mintao Wei",
      "photoUrl": "https://lh3.googleusercontent.com/a-/AOh14GjUHrwTX0bIeMcYDzrk5ktRiVbgauRzY5ALVxYZ=s64",
      "userId": "12058205070896827997"
     },
     "user_tz": -480
    },
    "id": "jOlDB2NQ2niq",
    "outputId": "3ffd23fe-b4d3-4113-be10-95e97ec658dd"
   },
   "outputs": [
    {
     "name": "stdout",
     "output_type": "stream",
     "text": [
      "                 data_types  value_counts  null_counts\n",
      "user_id              object       1736337            0\n",
      "device_ip            object       1145740            0\n",
      "device_id            object        311974            0\n",
      "index                object        137775            0\n",
      "device_model         object          5564            0\n",
      "app_id               object          4243            0\n",
      "site_domain          object          3504            0\n",
      "site_id              object          2978            0\n",
      "app_id_bag           object          2422            0\n",
      "C14                  object          2267            0\n",
      "C17                  object           456            0\n",
      "hist_clicks          object           448            0\n",
      "app_domain           object           225            0\n",
      "C20                  object           165            0\n",
      "device_ip_count       int64            86            0\n",
      "C19                  object            67            0\n",
      "C21                  object            62            0\n",
      "user_id_count         int64            48            0\n",
      "app_category         object            29            0\n",
      "site_category        object            23            0\n",
      "device_id_count       int64            17            0\n",
      "C16                  object             9            0\n",
      "C15                  object             8            0\n",
      "week_day_count        int64             7            0\n",
      "C1                   object             7            0\n",
      "banner_pos           object             7            0\n",
      "week_day             object             7            0\n",
      "device_type          object             4            0\n",
      "day_zone_count        int64             4            0\n",
      "device_conn_type     object             4            0\n",
      "C18                  object             4            0\n",
      "day_zone             object             4            0\n"
     ]
    }
   ],
   "source": [
    "df1_structure = pd.DataFrame({\"data_types\":df1.dtypes, \n",
    "                    \"value_counts\": df1.nunique(),\n",
    "                   \"null_counts\": df1.isnull().sum()}).set_index(df1.dtypes.index).sort_values(\n",
    "                by = \"value_counts\", ascending = False)\n",
    "print(df1_structure)\n"
   ]
  },
  {
   "cell_type": "code",
   "execution_count": 19,
   "metadata": {
    "colab": {
     "base_uri": "https://localhost:8080/"
    },
    "executionInfo": {
     "elapsed": 1069243,
     "status": "ok",
     "timestamp": 1610019472092,
     "user": {
      "displayName": "mintao Wei",
      "photoUrl": "https://lh3.googleusercontent.com/a-/AOh14GjUHrwTX0bIeMcYDzrk5ktRiVbgauRzY5ALVxYZ=s64",
      "userId": "12058205070896827997"
     },
     "user_tz": -480
    },
    "id": "gqF7F5kY2nir",
    "outputId": "3a927749-c6de-4d79-ea5f-a9165a4f6e8e"
   },
   "outputs": [
    {
     "name": "stderr",
     "output_type": "stream",
     "text": [
      "/usr/local/lib/python3.6/dist-packages/pandas/core/indexing.py:1596: SettingWithCopyWarning: \n",
      "A value is trying to be set on a copy of a slice from a DataFrame.\n",
      "Try using .loc[row_indexer,col_indexer] = value instead\n",
      "\n",
      "See the caveats in the documentation: https://pandas.pydata.org/pandas-docs/stable/user_guide/indexing.html#returning-a-view-versus-a-copy\n",
      "  self.obj[key] = _infer_fill_value(value)\n",
      "/usr/local/lib/python3.6/dist-packages/pandas/core/indexing.py:1743: SettingWithCopyWarning: \n",
      "A value is trying to be set on a copy of a slice from a DataFrame.\n",
      "Try using .loc[row_indexer,col_indexer] = value instead\n",
      "\n",
      "See the caveats in the documentation: https://pandas.pydata.org/pandas-docs/stable/user_guide/indexing.html#returning-a-view-versus-a-copy\n",
      "  isetter(ilocs[0], value)\n"
     ]
    }
   ],
   "source": [
    "def get_click_mapping(train, click):\n",
    "    '''\n",
    "    Input:\n",
    "        train (a temporarily split X_training set from concated df, in order to include all the data cleaning steps above)\n",
    "        click (y from original training set)\n",
    "    Output:\n",
    "        ctr_dict (a dictionary for high-dim mapping)\n",
    "    '''\n",
    "    ctr_dict = dict()\n",
    "    col_names = train.columns # executed before adding the click column to avoid including \"click\" in the for loop\n",
    "    train.loc[:,\"click\"] = click\n",
    "       \n",
    "    def get_ctr_level(ctr):    \n",
    "    \n",
    "        very_high_ctr = train.click.mean() + 0.04 #here I defined 4% greater than mean CTR as the 'very_high_ctr' threshold\n",
    "        high_ctr = train.click.mean() + 0.02    #here I defined 2% greater than mean CTR as the 'high_ctr' threshold\n",
    "        mean_ctr = train.click.mean()         \n",
    "        low_ctr = train.click.mean() - 0.02 #here I defined 2% lesser than mean CTR as the 'mean_ctr' threshold\n",
    "        very_low_ctr = train.click.mean() - 0.04 #here I defined 4% lesser than mean CTR as the 'very_low_ctr' threshold\n",
    "\n",
    "        if ctr >= very_high_ctr:\n",
    "            return \"very_high_ctr\"\n",
    "        elif (ctr < very_high_ctr) and (ctr >= high_ctr):\n",
    "            return \"high_ctr\"\n",
    "        elif (ctr < high_ctr) and (ctr >= mean_ctr):\n",
    "            return \"little_high_ctr\"\n",
    "        elif (ctr < mean_ctr) and (ctr >= low_ctr):\n",
    "            return \"little_low_ctr\"\n",
    "        elif (ctr < low_ctr) and (ctr >= very_low_ctr):\n",
    "            return \"low_ctr\"\n",
    "        elif (ctr < very_low_ctr):\n",
    "            return \"very_low_ctr\"\n",
    "    \n",
    "    for col in col_names:\n",
    "        # Here I use a dictionary of dictionary (key = column_name, value = dictionary({label:CTR}))\n",
    "        # to store the average CTR correspond to each label in that specific column\n",
    "        \n",
    "        train_col_agg = train.groupby(col).click.mean()\n",
    "        #list(map(lambda ctr:get_ctr_level(ctr),train.groupby(col).click.mean()))\n",
    "        ctr_dict[col] = dict(zip(train_col_agg.index, \n",
    "                                 list(map(lambda ctr: get_ctr_level(ctr), train_col_agg))))\n",
    "    return ctr_dict\n",
    "\n",
    "temp_train = df1[:len(x_train)]\n",
    "ctr_dict = get_click_mapping(temp_train, train.click)\n",
    "#ctr_dict"
   ]
  },
  {
   "cell_type": "code",
   "execution_count": 20,
   "metadata": {
    "colab": {
     "base_uri": "https://localhost:8080/"
    },
    "executionInfo": {
     "elapsed": 1069190,
     "status": "ok",
     "timestamp": 1610019472095,
     "user": {
      "displayName": "mintao Wei",
      "photoUrl": "https://lh3.googleusercontent.com/a-/AOh14GjUHrwTX0bIeMcYDzrk5ktRiVbgauRzY5ALVxYZ=s64",
      "userId": "12058205070896827997"
     },
     "user_tz": -480
    },
    "id": "UV0ha9BX2nir",
    "outputId": "b1f6abeb-58c0-44ec-c308-4f60e88b82e0"
   },
   "outputs": [
    {
     "name": "stdout",
     "output_type": "stream",
     "text": [
      "number of columns in training set:32, \n",
      "number of keys in ctr_dict mapping file:32\n",
      "they are equal? ---True\n"
     ]
    }
   ],
   "source": [
    "print(f'number of columns in training set:{len(df1.columns)}, \\nnumber of keys in ctr_dict mapping file:{len(ctr_dict)}')\n",
    "print(f\"they are equal? ---{list(df1.columns) == list(ctr_dict.keys())}\")"
   ]
  },
  {
   "cell_type": "markdown",
   "metadata": {
    "id": "5ZrtinZ_2nis"
   },
   "source": [
    "### when applying the dimension shrinking transformation, there is always going to be errors because test dataset contains some of the values we haven't seen in the training set.\n",
    "\n",
    "### In this case, I label them as \"unknown\""
   ]
  },
  {
   "cell_type": "code",
   "execution_count": 21,
   "metadata": {
    "collapsed": true,
    "executionInfo": {
     "elapsed": 1069008,
     "status": "ok",
     "timestamp": 1610019472096,
     "user": {
      "displayName": "mintao Wei",
      "photoUrl": "https://lh3.googleusercontent.com/a-/AOh14GjUHrwTX0bIeMcYDzrk5ktRiVbgauRzY5ALVxYZ=s64",
      "userId": "12058205070896827997"
     },
     "user_tz": -480
    },
    "id": "dlliroSi2nis"
   },
   "outputs": [],
   "source": [
    "def dim_shrink_transform(df, ctr_dict, trans_cols):\n",
    "    '''\n",
    "    Input:\n",
    "        df (concated train + test)\n",
    "    Output:\n",
    "        df\n",
    "    '''\n",
    "    def value_transform(x):\n",
    "        try:\n",
    "            return ctr_dict[col][x]\n",
    "        except:\n",
    "            return \"unlabeled\"\n",
    "        \n",
    "    for col in trans_cols:\n",
    "        print(f\"now we are at col:{col}\")\n",
    "        df[col] = list(map(value_transform, df[col]))\n",
    "    return df"
   ]
  },
  {
   "cell_type": "code",
   "execution_count": 22,
   "metadata": {
    "colab": {
     "base_uri": "https://localhost:8080/",
     "height": 518
    },
    "executionInfo": {
     "elapsed": 1098053,
     "status": "ok",
     "timestamp": 1610019501225,
     "user": {
      "displayName": "mintao Wei",
      "photoUrl": "https://lh3.googleusercontent.com/a-/AOh14GjUHrwTX0bIeMcYDzrk5ktRiVbgauRzY5ALVxYZ=s64",
      "userId": "12058205070896827997"
     },
     "user_tz": -480
    },
    "id": "4j8VRTfL2nit",
    "outputId": "32dfe140-4e41-401d-f613-c4566d9bbbda"
   },
   "outputs": [
    {
     "name": "stdout",
     "output_type": "stream",
     "text": [
      "number of columns transferred: 17\n",
      "now we are at col:user_id\n",
      "now we are at col:device_ip\n",
      "now we are at col:device_id\n",
      "now we are at col:index\n",
      "now we are at col:device_model\n",
      "now we are at col:app_id\n",
      "now we are at col:site_domain\n",
      "now we are at col:site_id\n",
      "now we are at col:app_id_bag\n",
      "now we are at col:C14\n",
      "now we are at col:C17\n",
      "now we are at col:app_domain\n",
      "now we are at col:C20\n",
      "now we are at col:C19\n",
      "now we are at col:C21\n",
      "now we are at col:app_category\n",
      "now we are at col:site_category\n"
     ]
    },
    {
     "data": {
      "text/html": [
       "<div>\n",
       "<style scoped>\n",
       "    .dataframe tbody tr th:only-of-type {\n",
       "        vertical-align: middle;\n",
       "    }\n",
       "\n",
       "    .dataframe tbody tr th {\n",
       "        vertical-align: top;\n",
       "    }\n",
       "\n",
       "    .dataframe thead th {\n",
       "        text-align: right;\n",
       "    }\n",
       "</style>\n",
       "<table border=\"1\" class=\"dataframe\">\n",
       "  <thead>\n",
       "    <tr style=\"text-align: right;\">\n",
       "      <th></th>\n",
       "      <th>index</th>\n",
       "      <th>C1</th>\n",
       "      <th>banner_pos</th>\n",
       "      <th>site_id</th>\n",
       "      <th>site_domain</th>\n",
       "      <th>site_category</th>\n",
       "      <th>app_id</th>\n",
       "      <th>app_domain</th>\n",
       "      <th>app_category</th>\n",
       "      <th>device_id</th>\n",
       "      <th>device_ip</th>\n",
       "      <th>device_model</th>\n",
       "      <th>device_type</th>\n",
       "      <th>device_conn_type</th>\n",
       "      <th>C14</th>\n",
       "      <th>C15</th>\n",
       "      <th>C16</th>\n",
       "      <th>C17</th>\n",
       "      <th>C18</th>\n",
       "      <th>C19</th>\n",
       "      <th>C20</th>\n",
       "      <th>C21</th>\n",
       "      <th>day_zone</th>\n",
       "      <th>week_day</th>\n",
       "      <th>user_id</th>\n",
       "      <th>device_ip_count</th>\n",
       "      <th>device_id_count</th>\n",
       "      <th>day_zone_count</th>\n",
       "      <th>week_day_count</th>\n",
       "      <th>user_id_count</th>\n",
       "      <th>app_id_bag</th>\n",
       "      <th>hist_clicks</th>\n",
       "    </tr>\n",
       "  </thead>\n",
       "  <tbody>\n",
       "    <tr>\n",
       "      <th>0</th>\n",
       "      <td>very_high_ctr</td>\n",
       "      <td>1005</td>\n",
       "      <td>0</td>\n",
       "      <td>little_high_ctr</td>\n",
       "      <td>little_high_ctr</td>\n",
       "      <td>little_low_ctr</td>\n",
       "      <td>little_high_ctr</td>\n",
       "      <td>little_high_ctr</td>\n",
       "      <td>little_high_ctr</td>\n",
       "      <td>little_high_ctr</td>\n",
       "      <td>very_high_ctr</td>\n",
       "      <td>little_low_ctr</td>\n",
       "      <td>1</td>\n",
       "      <td>0</td>\n",
       "      <td>little_high_ctr</td>\n",
       "      <td>320</td>\n",
       "      <td>50</td>\n",
       "      <td>little_high_ctr</td>\n",
       "      <td>3</td>\n",
       "      <td>little_low_ctr</td>\n",
       "      <td>little_low_ctr</td>\n",
       "      <td>little_high_ctr</td>\n",
       "      <td>night</td>\n",
       "      <td>3</td>\n",
       "      <td>very_high_ctr</td>\n",
       "      <td>1</td>\n",
       "      <td>114782</td>\n",
       "      <td>23333</td>\n",
       "      <td>30388</td>\n",
       "      <td>1</td>\n",
       "      <td>little_high_ctr</td>\n",
       "      <td>0</td>\n",
       "    </tr>\n",
       "    <tr>\n",
       "      <th>1</th>\n",
       "      <td>very_low_ctr</td>\n",
       "      <td>1005</td>\n",
       "      <td>1</td>\n",
       "      <td>low_ctr</td>\n",
       "      <td>little_high_ctr</td>\n",
       "      <td>little_low_ctr</td>\n",
       "      <td>little_low_ctr</td>\n",
       "      <td>little_low_ctr</td>\n",
       "      <td>little_low_ctr</td>\n",
       "      <td>little_high_ctr</td>\n",
       "      <td>very_low_ctr</td>\n",
       "      <td>low_ctr</td>\n",
       "      <td>1</td>\n",
       "      <td>0</td>\n",
       "      <td>little_high_ctr</td>\n",
       "      <td>320</td>\n",
       "      <td>50</td>\n",
       "      <td>little_high_ctr</td>\n",
       "      <td>0</td>\n",
       "      <td>little_low_ctr</td>\n",
       "      <td>little_high_ctr</td>\n",
       "      <td>little_low_ctr</td>\n",
       "      <td>early_morning</td>\n",
       "      <td>3</td>\n",
       "      <td>very_low_ctr</td>\n",
       "      <td>2</td>\n",
       "      <td>114782</td>\n",
       "      <td>28703</td>\n",
       "      <td>30388</td>\n",
       "      <td>1</td>\n",
       "      <td>little_low_ctr</td>\n",
       "      <td>0</td>\n",
       "    </tr>\n",
       "    <tr>\n",
       "      <th>2</th>\n",
       "      <td>very_low_ctr</td>\n",
       "      <td>1005</td>\n",
       "      <td>1</td>\n",
       "      <td>little_low_ctr</td>\n",
       "      <td>little_low_ctr</td>\n",
       "      <td>little_high_ctr</td>\n",
       "      <td>little_low_ctr</td>\n",
       "      <td>little_low_ctr</td>\n",
       "      <td>little_low_ctr</td>\n",
       "      <td>little_high_ctr</td>\n",
       "      <td>very_low_ctr</td>\n",
       "      <td>little_high_ctr</td>\n",
       "      <td>1</td>\n",
       "      <td>0</td>\n",
       "      <td>low_ctr</td>\n",
       "      <td>320</td>\n",
       "      <td>50</td>\n",
       "      <td>little_low_ctr</td>\n",
       "      <td>3</td>\n",
       "      <td>little_high_ctr</td>\n",
       "      <td>little_low_ctr</td>\n",
       "      <td>little_high_ctr</td>\n",
       "      <td>night</td>\n",
       "      <td>3</td>\n",
       "      <td>very_low_ctr</td>\n",
       "      <td>1</td>\n",
       "      <td>114782</td>\n",
       "      <td>23333</td>\n",
       "      <td>30388</td>\n",
       "      <td>1</td>\n",
       "      <td>little_low_ctr</td>\n",
       "      <td>1</td>\n",
       "    </tr>\n",
       "    <tr>\n",
       "      <th>3</th>\n",
       "      <td>very_low_ctr</td>\n",
       "      <td>1005</td>\n",
       "      <td>1</td>\n",
       "      <td>little_low_ctr</td>\n",
       "      <td>little_low_ctr</td>\n",
       "      <td>little_high_ctr</td>\n",
       "      <td>little_low_ctr</td>\n",
       "      <td>little_low_ctr</td>\n",
       "      <td>little_low_ctr</td>\n",
       "      <td>little_high_ctr</td>\n",
       "      <td>very_low_ctr</td>\n",
       "      <td>low_ctr</td>\n",
       "      <td>1</td>\n",
       "      <td>0</td>\n",
       "      <td>little_low_ctr</td>\n",
       "      <td>320</td>\n",
       "      <td>50</td>\n",
       "      <td>little_low_ctr</td>\n",
       "      <td>3</td>\n",
       "      <td>little_high_ctr</td>\n",
       "      <td>little_low_ctr</td>\n",
       "      <td>little_high_ctr</td>\n",
       "      <td>early_morning</td>\n",
       "      <td>4</td>\n",
       "      <td>very_low_ctr</td>\n",
       "      <td>1</td>\n",
       "      <td>114782</td>\n",
       "      <td>28703</td>\n",
       "      <td>27765</td>\n",
       "      <td>1</td>\n",
       "      <td>little_low_ctr</td>\n",
       "      <td>1</td>\n",
       "    </tr>\n",
       "    <tr>\n",
       "      <th>4</th>\n",
       "      <td>very_low_ctr</td>\n",
       "      <td>1005</td>\n",
       "      <td>0</td>\n",
       "      <td>little_high_ctr</td>\n",
       "      <td>little_high_ctr</td>\n",
       "      <td>little_low_ctr</td>\n",
       "      <td>very_low_ctr</td>\n",
       "      <td>little_high_ctr</td>\n",
       "      <td>little_low_ctr</td>\n",
       "      <td>little_high_ctr</td>\n",
       "      <td>very_low_ctr</td>\n",
       "      <td>very_high_ctr</td>\n",
       "      <td>1</td>\n",
       "      <td>0</td>\n",
       "      <td>low_ctr</td>\n",
       "      <td>320</td>\n",
       "      <td>50</td>\n",
       "      <td>very_low_ctr</td>\n",
       "      <td>3</td>\n",
       "      <td>little_high_ctr</td>\n",
       "      <td>little_low_ctr</td>\n",
       "      <td>little_high_ctr</td>\n",
       "      <td>morning</td>\n",
       "      <td>2</td>\n",
       "      <td>very_low_ctr</td>\n",
       "      <td>3</td>\n",
       "      <td>114782</td>\n",
       "      <td>41169</td>\n",
       "      <td>31754</td>\n",
       "      <td>3</td>\n",
       "      <td>very_low_ctr</td>\n",
       "      <td>0-0-0</td>\n",
       "    </tr>\n",
       "  </tbody>\n",
       "</table>\n",
       "</div>"
      ],
      "text/plain": [
       "           index    C1 banner_pos  ... user_id_count       app_id_bag hist_clicks\n",
       "0  very_high_ctr  1005          0  ...             1  little_high_ctr           0\n",
       "1   very_low_ctr  1005          1  ...             1   little_low_ctr           0\n",
       "2   very_low_ctr  1005          1  ...             1   little_low_ctr           1\n",
       "3   very_low_ctr  1005          1  ...             1   little_low_ctr           1\n",
       "4   very_low_ctr  1005          0  ...             3     very_low_ctr       0-0-0\n",
       "\n",
       "[5 rows x 32 columns]"
      ]
     },
     "execution_count": 22,
     "metadata": {
      "tags": []
     },
     "output_type": "execute_result"
    }
   ],
   "source": [
    "# we only transform columns with unique values larger than 10 (high dimensions)\n",
    "trans_cols = list(df1_structure[(df1_structure[\"value_counts\"] > 10) & (df1_structure[\"data_types\"] == \"object\")].index)\n",
    "# exclude some pretty informative columns, such as hist_clicks\n",
    "\n",
    "try:\n",
    "    trans_cols.remove(\"hist_clicks\")\n",
    "except:\n",
    "    pass\n",
    "print(f'number of columns transferred: {len(trans_cols)}')\n",
    "df1 = dim_shrink_transform(df1, ctr_dict, trans_cols)\n",
    "df1.head()"
   ]
  },
  {
   "cell_type": "markdown",
   "metadata": {
    "id": "uvUVu96Z2nit"
   },
   "source": [
    "### We deal with the \"hist_clicks\" columns individually here, since it is an important dimension\n",
    "a. keep only the top 10 frequent clicking pattern (last clicks if the user clicks more than 7 times)\n",
    "\n",
    "b. add 2 new features: number of historical clicks committed by that time; "
   ]
  },
  {
   "cell_type": "code",
   "execution_count": 23,
   "metadata": {
    "collapsed": true,
    "executionInfo": {
     "elapsed": 1103313,
     "status": "ok",
     "timestamp": 1610019506674,
     "user": {
      "displayName": "mintao Wei",
      "photoUrl": "https://lh3.googleusercontent.com/a-/AOh14GjUHrwTX0bIeMcYDzrk5ktRiVbgauRzY5ALVxYZ=s64",
      "userId": "12058205070896827997"
     },
     "user_tz": -480
    },
    "id": "z8msXY2u2nit"
   },
   "outputs": [],
   "source": [
    "def trunc_clicks(click):\n",
    "    if len(click) > 7:\n",
    "      # careful, len(click) means \"1-0\" with a dashline \n",
    "        return click[:7]\n",
    "    else:\n",
    "        return click\n",
    "    \n",
    "df1[\"num_clicks\"] = list(map(lambda clk: len(clk), df1.hist_clicks))\n",
    "df1.loc[:,\"hist_clicks\"] = list(map(trunc_clicks, df1.hist_clicks))"
   ]
  },
  {
   "cell_type": "code",
   "execution_count": 24,
   "metadata": {
    "collapsed": true,
    "executionInfo": {
     "elapsed": 1105021,
     "status": "ok",
     "timestamp": 1610019508476,
     "user": {
      "displayName": "mintao Wei",
      "photoUrl": "https://lh3.googleusercontent.com/a-/AOh14GjUHrwTX0bIeMcYDzrk5ktRiVbgauRzY5ALVxYZ=s64",
      "userId": "12058205070896827997"
     },
     "user_tz": -480
    },
    "id": "RXx9H5zu2niu"
   },
   "outputs": [],
   "source": [
    "# delete \"index\" column if exists\n",
    "df1 = df1.drop(\"index\",axis = 1)"
   ]
  },
  {
   "cell_type": "code",
   "execution_count": 25,
   "metadata": {
    "colab": {
     "base_uri": "https://localhost:8080/",
     "height": 994
    },
    "executionInfo": {
     "elapsed": 1110879,
     "status": "ok",
     "timestamp": 1610019514459,
     "user": {
      "displayName": "mintao Wei",
      "photoUrl": "https://lh3.googleusercontent.com/a-/AOh14GjUHrwTX0bIeMcYDzrk5ktRiVbgauRzY5ALVxYZ=s64",
      "userId": "12058205070896827997"
     },
     "user_tz": -480
    },
    "id": "ew3UypU92niu",
    "outputId": "e8283ea2-fc31-4a61-ef3b-5a44756063e4",
    "scrolled": true
   },
   "outputs": [
    {
     "data": {
      "text/html": [
       "<div>\n",
       "<style scoped>\n",
       "    .dataframe tbody tr th:only-of-type {\n",
       "        vertical-align: middle;\n",
       "    }\n",
       "\n",
       "    .dataframe tbody tr th {\n",
       "        vertical-align: top;\n",
       "    }\n",
       "\n",
       "    .dataframe thead th {\n",
       "        text-align: right;\n",
       "    }\n",
       "</style>\n",
       "<table border=\"1\" class=\"dataframe\">\n",
       "  <thead>\n",
       "    <tr style=\"text-align: right;\">\n",
       "      <th></th>\n",
       "      <th>data_types</th>\n",
       "      <th>value_counts</th>\n",
       "    </tr>\n",
       "  </thead>\n",
       "  <tbody>\n",
       "    <tr>\n",
       "      <th>C1</th>\n",
       "      <td>object</td>\n",
       "      <td>7</td>\n",
       "    </tr>\n",
       "    <tr>\n",
       "      <th>banner_pos</th>\n",
       "      <td>object</td>\n",
       "      <td>7</td>\n",
       "    </tr>\n",
       "    <tr>\n",
       "      <th>site_id</th>\n",
       "      <td>object</td>\n",
       "      <td>7</td>\n",
       "    </tr>\n",
       "    <tr>\n",
       "      <th>site_domain</th>\n",
       "      <td>object</td>\n",
       "      <td>7</td>\n",
       "    </tr>\n",
       "    <tr>\n",
       "      <th>site_category</th>\n",
       "      <td>object</td>\n",
       "      <td>6</td>\n",
       "    </tr>\n",
       "    <tr>\n",
       "      <th>app_id</th>\n",
       "      <td>object</td>\n",
       "      <td>7</td>\n",
       "    </tr>\n",
       "    <tr>\n",
       "      <th>app_domain</th>\n",
       "      <td>object</td>\n",
       "      <td>7</td>\n",
       "    </tr>\n",
       "    <tr>\n",
       "      <th>app_category</th>\n",
       "      <td>object</td>\n",
       "      <td>7</td>\n",
       "    </tr>\n",
       "    <tr>\n",
       "      <th>device_id</th>\n",
       "      <td>object</td>\n",
       "      <td>7</td>\n",
       "    </tr>\n",
       "    <tr>\n",
       "      <th>device_ip</th>\n",
       "      <td>object</td>\n",
       "      <td>7</td>\n",
       "    </tr>\n",
       "    <tr>\n",
       "      <th>device_model</th>\n",
       "      <td>object</td>\n",
       "      <td>7</td>\n",
       "    </tr>\n",
       "    <tr>\n",
       "      <th>device_type</th>\n",
       "      <td>object</td>\n",
       "      <td>4</td>\n",
       "    </tr>\n",
       "    <tr>\n",
       "      <th>device_conn_type</th>\n",
       "      <td>object</td>\n",
       "      <td>4</td>\n",
       "    </tr>\n",
       "    <tr>\n",
       "      <th>C14</th>\n",
       "      <td>object</td>\n",
       "      <td>7</td>\n",
       "    </tr>\n",
       "    <tr>\n",
       "      <th>C15</th>\n",
       "      <td>object</td>\n",
       "      <td>8</td>\n",
       "    </tr>\n",
       "    <tr>\n",
       "      <th>C16</th>\n",
       "      <td>object</td>\n",
       "      <td>9</td>\n",
       "    </tr>\n",
       "    <tr>\n",
       "      <th>C17</th>\n",
       "      <td>object</td>\n",
       "      <td>7</td>\n",
       "    </tr>\n",
       "    <tr>\n",
       "      <th>C18</th>\n",
       "      <td>object</td>\n",
       "      <td>4</td>\n",
       "    </tr>\n",
       "    <tr>\n",
       "      <th>C19</th>\n",
       "      <td>object</td>\n",
       "      <td>7</td>\n",
       "    </tr>\n",
       "    <tr>\n",
       "      <th>C20</th>\n",
       "      <td>object</td>\n",
       "      <td>7</td>\n",
       "    </tr>\n",
       "    <tr>\n",
       "      <th>C21</th>\n",
       "      <td>object</td>\n",
       "      <td>7</td>\n",
       "    </tr>\n",
       "    <tr>\n",
       "      <th>day_zone</th>\n",
       "      <td>object</td>\n",
       "      <td>4</td>\n",
       "    </tr>\n",
       "    <tr>\n",
       "      <th>week_day</th>\n",
       "      <td>object</td>\n",
       "      <td>7</td>\n",
       "    </tr>\n",
       "    <tr>\n",
       "      <th>user_id</th>\n",
       "      <td>object</td>\n",
       "      <td>7</td>\n",
       "    </tr>\n",
       "    <tr>\n",
       "      <th>device_ip_count</th>\n",
       "      <td>int64</td>\n",
       "      <td>86</td>\n",
       "    </tr>\n",
       "    <tr>\n",
       "      <th>device_id_count</th>\n",
       "      <td>int64</td>\n",
       "      <td>17</td>\n",
       "    </tr>\n",
       "    <tr>\n",
       "      <th>day_zone_count</th>\n",
       "      <td>int64</td>\n",
       "      <td>4</td>\n",
       "    </tr>\n",
       "    <tr>\n",
       "      <th>week_day_count</th>\n",
       "      <td>int64</td>\n",
       "      <td>7</td>\n",
       "    </tr>\n",
       "    <tr>\n",
       "      <th>user_id_count</th>\n",
       "      <td>int64</td>\n",
       "      <td>48</td>\n",
       "    </tr>\n",
       "    <tr>\n",
       "      <th>app_id_bag</th>\n",
       "      <td>object</td>\n",
       "      <td>7</td>\n",
       "    </tr>\n",
       "    <tr>\n",
       "      <th>hist_clicks</th>\n",
       "      <td>object</td>\n",
       "      <td>31</td>\n",
       "    </tr>\n",
       "    <tr>\n",
       "      <th>num_clicks</th>\n",
       "      <td>int64</td>\n",
       "      <td>47</td>\n",
       "    </tr>\n",
       "  </tbody>\n",
       "</table>\n",
       "</div>"
      ],
      "text/plain": [
       "                 data_types  value_counts\n",
       "C1                   object             7\n",
       "banner_pos           object             7\n",
       "site_id              object             7\n",
       "site_domain          object             7\n",
       "site_category        object             6\n",
       "app_id               object             7\n",
       "app_domain           object             7\n",
       "app_category         object             7\n",
       "device_id            object             7\n",
       "device_ip            object             7\n",
       "device_model         object             7\n",
       "device_type          object             4\n",
       "device_conn_type     object             4\n",
       "C14                  object             7\n",
       "C15                  object             8\n",
       "C16                  object             9\n",
       "C17                  object             7\n",
       "C18                  object             4\n",
       "C19                  object             7\n",
       "C20                  object             7\n",
       "C21                  object             7\n",
       "day_zone             object             4\n",
       "week_day             object             7\n",
       "user_id              object             7\n",
       "device_ip_count       int64            86\n",
       "device_id_count       int64            17\n",
       "day_zone_count        int64             4\n",
       "week_day_count        int64             7\n",
       "user_id_count         int64            48\n",
       "app_id_bag           object             7\n",
       "hist_clicks          object            31\n",
       "num_clicks            int64            47"
      ]
     },
     "execution_count": 25,
     "metadata": {
      "tags": []
     },
     "output_type": "execute_result"
    }
   ],
   "source": [
    "# Take a look at the data before heading towards get_dummies()\n",
    "pd.DataFrame({\"data_types\":df1.dtypes,\"value_counts\": df1.nunique()})"
   ]
  },
  {
   "cell_type": "markdown",
   "metadata": {
    "id": "k20xywfK2niu"
   },
   "source": [
    "## STEP 4: OHE, Data Split,and Resampling"
   ]
  },
  {
   "cell_type": "markdown",
   "metadata": {
    "id": "CXUKXDZO2niv"
   },
   "source": [
    "### 4-1. OHE"
   ]
  },
  {
   "cell_type": "code",
   "execution_count": 26,
   "metadata": {
    "colab": {
     "base_uri": "https://localhost:8080/"
    },
    "executionInfo": {
     "elapsed": 1121481,
     "status": "ok",
     "timestamp": 1610019526766,
     "user": {
      "displayName": "mintao Wei",
      "photoUrl": "https://lh3.googleusercontent.com/a-/AOh14GjUHrwTX0bIeMcYDzrk5ktRiVbgauRzY5ALVxYZ=s64",
      "userId": "12058205070896827997"
     },
     "user_tz": -480
    },
    "id": "nJzYs9P22niv",
    "outputId": "ab1d3639-2de6-4f5b-f7d4-8996890b7669"
   },
   "outputs": [
    {
     "data": {
      "text/plain": [
       "(4715238, 176)"
      ]
     },
     "execution_count": 26,
     "metadata": {
      "tags": []
     },
     "output_type": "execute_result"
    }
   ],
   "source": [
    "df1_dummies = pd.get_dummies(df1, drop_first = True)\n",
    "df1_dummies.shape"
   ]
  },
  {
   "cell_type": "code",
   "execution_count": 27,
   "metadata": {
    "colab": {
     "base_uri": "https://localhost:8080/",
     "height": 261
    },
    "executionInfo": {
     "elapsed": 1121250,
     "status": "ok",
     "timestamp": 1610019526768,
     "user": {
      "displayName": "mintao Wei",
      "photoUrl": "https://lh3.googleusercontent.com/a-/AOh14GjUHrwTX0bIeMcYDzrk5ktRiVbgauRzY5ALVxYZ=s64",
      "userId": "12058205070896827997"
     },
     "user_tz": -480
    },
    "id": "Vd1fZVFA2niv",
    "outputId": "9b2bd693-a2c3-4be9-c79a-b8b13f645fb6"
   },
   "outputs": [
    {
     "data": {
      "text/html": [
       "<div>\n",
       "<style scoped>\n",
       "    .dataframe tbody tr th:only-of-type {\n",
       "        vertical-align: middle;\n",
       "    }\n",
       "\n",
       "    .dataframe tbody tr th {\n",
       "        vertical-align: top;\n",
       "    }\n",
       "\n",
       "    .dataframe thead th {\n",
       "        text-align: right;\n",
       "    }\n",
       "</style>\n",
       "<table border=\"1\" class=\"dataframe\">\n",
       "  <thead>\n",
       "    <tr style=\"text-align: right;\">\n",
       "      <th></th>\n",
       "      <th>device_ip_count</th>\n",
       "      <th>device_id_count</th>\n",
       "      <th>day_zone_count</th>\n",
       "      <th>week_day_count</th>\n",
       "      <th>user_id_count</th>\n",
       "      <th>num_clicks</th>\n",
       "      <th>C1_1002</th>\n",
       "      <th>C1_1005</th>\n",
       "      <th>C1_1007</th>\n",
       "      <th>C1_1008</th>\n",
       "      <th>C1_1010</th>\n",
       "      <th>C1_1012</th>\n",
       "      <th>banner_pos_1</th>\n",
       "      <th>banner_pos_2</th>\n",
       "      <th>banner_pos_3</th>\n",
       "      <th>banner_pos_4</th>\n",
       "      <th>banner_pos_5</th>\n",
       "      <th>banner_pos_7</th>\n",
       "      <th>site_id_little_high_ctr</th>\n",
       "      <th>site_id_little_low_ctr</th>\n",
       "      <th>site_id_low_ctr</th>\n",
       "      <th>site_id_unlabeled</th>\n",
       "      <th>site_id_very_high_ctr</th>\n",
       "      <th>site_id_very_low_ctr</th>\n",
       "      <th>site_domain_little_high_ctr</th>\n",
       "      <th>site_domain_little_low_ctr</th>\n",
       "      <th>site_domain_low_ctr</th>\n",
       "      <th>site_domain_unlabeled</th>\n",
       "      <th>site_domain_very_high_ctr</th>\n",
       "      <th>site_domain_very_low_ctr</th>\n",
       "      <th>site_category_little_high_ctr</th>\n",
       "      <th>site_category_little_low_ctr</th>\n",
       "      <th>site_category_unlabeled</th>\n",
       "      <th>site_category_very_high_ctr</th>\n",
       "      <th>site_category_very_low_ctr</th>\n",
       "      <th>app_id_little_high_ctr</th>\n",
       "      <th>app_id_little_low_ctr</th>\n",
       "      <th>app_id_low_ctr</th>\n",
       "      <th>app_id_unlabeled</th>\n",
       "      <th>app_id_very_high_ctr</th>\n",
       "      <th>...</th>\n",
       "      <th>user_id_low_ctr</th>\n",
       "      <th>user_id_unlabeled</th>\n",
       "      <th>user_id_very_high_ctr</th>\n",
       "      <th>user_id_very_low_ctr</th>\n",
       "      <th>app_id_bag_little_high_ctr</th>\n",
       "      <th>app_id_bag_little_low_ctr</th>\n",
       "      <th>app_id_bag_low_ctr</th>\n",
       "      <th>app_id_bag_unlabeled</th>\n",
       "      <th>app_id_bag_very_high_ctr</th>\n",
       "      <th>app_id_bag_very_low_ctr</th>\n",
       "      <th>hist_clicks_0-0</th>\n",
       "      <th>hist_clicks_0-0-0</th>\n",
       "      <th>hist_clicks_0-0-0-0</th>\n",
       "      <th>hist_clicks_0-0-0-1</th>\n",
       "      <th>hist_clicks_0-0-1</th>\n",
       "      <th>hist_clicks_0-0-1-0</th>\n",
       "      <th>hist_clicks_0-0-1-1</th>\n",
       "      <th>hist_clicks_0-1</th>\n",
       "      <th>hist_clicks_0-1-0</th>\n",
       "      <th>hist_clicks_0-1-0-0</th>\n",
       "      <th>hist_clicks_0-1-0-1</th>\n",
       "      <th>hist_clicks_0-1-1</th>\n",
       "      <th>hist_clicks_0-1-1-0</th>\n",
       "      <th>hist_clicks_0-1-1-1</th>\n",
       "      <th>hist_clicks_1</th>\n",
       "      <th>hist_clicks_1-0</th>\n",
       "      <th>hist_clicks_1-0-0</th>\n",
       "      <th>hist_clicks_1-0-0-0</th>\n",
       "      <th>hist_clicks_1-0-0-1</th>\n",
       "      <th>hist_clicks_1-0-1</th>\n",
       "      <th>hist_clicks_1-0-1-0</th>\n",
       "      <th>hist_clicks_1-0-1-1</th>\n",
       "      <th>hist_clicks_1-1</th>\n",
       "      <th>hist_clicks_1-1-0</th>\n",
       "      <th>hist_clicks_1-1-0-0</th>\n",
       "      <th>hist_clicks_1-1-0-1</th>\n",
       "      <th>hist_clicks_1-1-1</th>\n",
       "      <th>hist_clicks_1-1-1-0</th>\n",
       "      <th>hist_clicks_1-1-1-1</th>\n",
       "      <th>hist_clicks_unknown</th>\n",
       "    </tr>\n",
       "  </thead>\n",
       "  <tbody>\n",
       "    <tr>\n",
       "      <th>0</th>\n",
       "      <td>1</td>\n",
       "      <td>114782</td>\n",
       "      <td>23333</td>\n",
       "      <td>30388</td>\n",
       "      <td>1</td>\n",
       "      <td>1</td>\n",
       "      <td>0</td>\n",
       "      <td>1</td>\n",
       "      <td>0</td>\n",
       "      <td>0</td>\n",
       "      <td>0</td>\n",
       "      <td>0</td>\n",
       "      <td>0</td>\n",
       "      <td>0</td>\n",
       "      <td>0</td>\n",
       "      <td>0</td>\n",
       "      <td>0</td>\n",
       "      <td>0</td>\n",
       "      <td>1</td>\n",
       "      <td>0</td>\n",
       "      <td>0</td>\n",
       "      <td>0</td>\n",
       "      <td>0</td>\n",
       "      <td>0</td>\n",
       "      <td>1</td>\n",
       "      <td>0</td>\n",
       "      <td>0</td>\n",
       "      <td>0</td>\n",
       "      <td>0</td>\n",
       "      <td>0</td>\n",
       "      <td>0</td>\n",
       "      <td>1</td>\n",
       "      <td>0</td>\n",
       "      <td>0</td>\n",
       "      <td>0</td>\n",
       "      <td>1</td>\n",
       "      <td>0</td>\n",
       "      <td>0</td>\n",
       "      <td>0</td>\n",
       "      <td>0</td>\n",
       "      <td>...</td>\n",
       "      <td>0</td>\n",
       "      <td>0</td>\n",
       "      <td>1</td>\n",
       "      <td>0</td>\n",
       "      <td>1</td>\n",
       "      <td>0</td>\n",
       "      <td>0</td>\n",
       "      <td>0</td>\n",
       "      <td>0</td>\n",
       "      <td>0</td>\n",
       "      <td>0</td>\n",
       "      <td>0</td>\n",
       "      <td>0</td>\n",
       "      <td>0</td>\n",
       "      <td>0</td>\n",
       "      <td>0</td>\n",
       "      <td>0</td>\n",
       "      <td>0</td>\n",
       "      <td>0</td>\n",
       "      <td>0</td>\n",
       "      <td>0</td>\n",
       "      <td>0</td>\n",
       "      <td>0</td>\n",
       "      <td>0</td>\n",
       "      <td>0</td>\n",
       "      <td>0</td>\n",
       "      <td>0</td>\n",
       "      <td>0</td>\n",
       "      <td>0</td>\n",
       "      <td>0</td>\n",
       "      <td>0</td>\n",
       "      <td>0</td>\n",
       "      <td>0</td>\n",
       "      <td>0</td>\n",
       "      <td>0</td>\n",
       "      <td>0</td>\n",
       "      <td>0</td>\n",
       "      <td>0</td>\n",
       "      <td>0</td>\n",
       "      <td>0</td>\n",
       "    </tr>\n",
       "    <tr>\n",
       "      <th>1</th>\n",
       "      <td>2</td>\n",
       "      <td>114782</td>\n",
       "      <td>28703</td>\n",
       "      <td>30388</td>\n",
       "      <td>1</td>\n",
       "      <td>1</td>\n",
       "      <td>0</td>\n",
       "      <td>1</td>\n",
       "      <td>0</td>\n",
       "      <td>0</td>\n",
       "      <td>0</td>\n",
       "      <td>0</td>\n",
       "      <td>1</td>\n",
       "      <td>0</td>\n",
       "      <td>0</td>\n",
       "      <td>0</td>\n",
       "      <td>0</td>\n",
       "      <td>0</td>\n",
       "      <td>0</td>\n",
       "      <td>0</td>\n",
       "      <td>1</td>\n",
       "      <td>0</td>\n",
       "      <td>0</td>\n",
       "      <td>0</td>\n",
       "      <td>1</td>\n",
       "      <td>0</td>\n",
       "      <td>0</td>\n",
       "      <td>0</td>\n",
       "      <td>0</td>\n",
       "      <td>0</td>\n",
       "      <td>0</td>\n",
       "      <td>1</td>\n",
       "      <td>0</td>\n",
       "      <td>0</td>\n",
       "      <td>0</td>\n",
       "      <td>0</td>\n",
       "      <td>1</td>\n",
       "      <td>0</td>\n",
       "      <td>0</td>\n",
       "      <td>0</td>\n",
       "      <td>...</td>\n",
       "      <td>0</td>\n",
       "      <td>0</td>\n",
       "      <td>0</td>\n",
       "      <td>1</td>\n",
       "      <td>0</td>\n",
       "      <td>1</td>\n",
       "      <td>0</td>\n",
       "      <td>0</td>\n",
       "      <td>0</td>\n",
       "      <td>0</td>\n",
       "      <td>0</td>\n",
       "      <td>0</td>\n",
       "      <td>0</td>\n",
       "      <td>0</td>\n",
       "      <td>0</td>\n",
       "      <td>0</td>\n",
       "      <td>0</td>\n",
       "      <td>0</td>\n",
       "      <td>0</td>\n",
       "      <td>0</td>\n",
       "      <td>0</td>\n",
       "      <td>0</td>\n",
       "      <td>0</td>\n",
       "      <td>0</td>\n",
       "      <td>0</td>\n",
       "      <td>0</td>\n",
       "      <td>0</td>\n",
       "      <td>0</td>\n",
       "      <td>0</td>\n",
       "      <td>0</td>\n",
       "      <td>0</td>\n",
       "      <td>0</td>\n",
       "      <td>0</td>\n",
       "      <td>0</td>\n",
       "      <td>0</td>\n",
       "      <td>0</td>\n",
       "      <td>0</td>\n",
       "      <td>0</td>\n",
       "      <td>0</td>\n",
       "      <td>0</td>\n",
       "    </tr>\n",
       "    <tr>\n",
       "      <th>2</th>\n",
       "      <td>1</td>\n",
       "      <td>114782</td>\n",
       "      <td>23333</td>\n",
       "      <td>30388</td>\n",
       "      <td>1</td>\n",
       "      <td>1</td>\n",
       "      <td>0</td>\n",
       "      <td>1</td>\n",
       "      <td>0</td>\n",
       "      <td>0</td>\n",
       "      <td>0</td>\n",
       "      <td>0</td>\n",
       "      <td>1</td>\n",
       "      <td>0</td>\n",
       "      <td>0</td>\n",
       "      <td>0</td>\n",
       "      <td>0</td>\n",
       "      <td>0</td>\n",
       "      <td>0</td>\n",
       "      <td>1</td>\n",
       "      <td>0</td>\n",
       "      <td>0</td>\n",
       "      <td>0</td>\n",
       "      <td>0</td>\n",
       "      <td>0</td>\n",
       "      <td>1</td>\n",
       "      <td>0</td>\n",
       "      <td>0</td>\n",
       "      <td>0</td>\n",
       "      <td>0</td>\n",
       "      <td>1</td>\n",
       "      <td>0</td>\n",
       "      <td>0</td>\n",
       "      <td>0</td>\n",
       "      <td>0</td>\n",
       "      <td>0</td>\n",
       "      <td>1</td>\n",
       "      <td>0</td>\n",
       "      <td>0</td>\n",
       "      <td>0</td>\n",
       "      <td>...</td>\n",
       "      <td>0</td>\n",
       "      <td>0</td>\n",
       "      <td>0</td>\n",
       "      <td>1</td>\n",
       "      <td>0</td>\n",
       "      <td>1</td>\n",
       "      <td>0</td>\n",
       "      <td>0</td>\n",
       "      <td>0</td>\n",
       "      <td>0</td>\n",
       "      <td>0</td>\n",
       "      <td>0</td>\n",
       "      <td>0</td>\n",
       "      <td>0</td>\n",
       "      <td>0</td>\n",
       "      <td>0</td>\n",
       "      <td>0</td>\n",
       "      <td>0</td>\n",
       "      <td>0</td>\n",
       "      <td>0</td>\n",
       "      <td>0</td>\n",
       "      <td>0</td>\n",
       "      <td>0</td>\n",
       "      <td>0</td>\n",
       "      <td>1</td>\n",
       "      <td>0</td>\n",
       "      <td>0</td>\n",
       "      <td>0</td>\n",
       "      <td>0</td>\n",
       "      <td>0</td>\n",
       "      <td>0</td>\n",
       "      <td>0</td>\n",
       "      <td>0</td>\n",
       "      <td>0</td>\n",
       "      <td>0</td>\n",
       "      <td>0</td>\n",
       "      <td>0</td>\n",
       "      <td>0</td>\n",
       "      <td>0</td>\n",
       "      <td>0</td>\n",
       "    </tr>\n",
       "    <tr>\n",
       "      <th>3</th>\n",
       "      <td>1</td>\n",
       "      <td>114782</td>\n",
       "      <td>28703</td>\n",
       "      <td>27765</td>\n",
       "      <td>1</td>\n",
       "      <td>1</td>\n",
       "      <td>0</td>\n",
       "      <td>1</td>\n",
       "      <td>0</td>\n",
       "      <td>0</td>\n",
       "      <td>0</td>\n",
       "      <td>0</td>\n",
       "      <td>1</td>\n",
       "      <td>0</td>\n",
       "      <td>0</td>\n",
       "      <td>0</td>\n",
       "      <td>0</td>\n",
       "      <td>0</td>\n",
       "      <td>0</td>\n",
       "      <td>1</td>\n",
       "      <td>0</td>\n",
       "      <td>0</td>\n",
       "      <td>0</td>\n",
       "      <td>0</td>\n",
       "      <td>0</td>\n",
       "      <td>1</td>\n",
       "      <td>0</td>\n",
       "      <td>0</td>\n",
       "      <td>0</td>\n",
       "      <td>0</td>\n",
       "      <td>1</td>\n",
       "      <td>0</td>\n",
       "      <td>0</td>\n",
       "      <td>0</td>\n",
       "      <td>0</td>\n",
       "      <td>0</td>\n",
       "      <td>1</td>\n",
       "      <td>0</td>\n",
       "      <td>0</td>\n",
       "      <td>0</td>\n",
       "      <td>...</td>\n",
       "      <td>0</td>\n",
       "      <td>0</td>\n",
       "      <td>0</td>\n",
       "      <td>1</td>\n",
       "      <td>0</td>\n",
       "      <td>1</td>\n",
       "      <td>0</td>\n",
       "      <td>0</td>\n",
       "      <td>0</td>\n",
       "      <td>0</td>\n",
       "      <td>0</td>\n",
       "      <td>0</td>\n",
       "      <td>0</td>\n",
       "      <td>0</td>\n",
       "      <td>0</td>\n",
       "      <td>0</td>\n",
       "      <td>0</td>\n",
       "      <td>0</td>\n",
       "      <td>0</td>\n",
       "      <td>0</td>\n",
       "      <td>0</td>\n",
       "      <td>0</td>\n",
       "      <td>0</td>\n",
       "      <td>0</td>\n",
       "      <td>1</td>\n",
       "      <td>0</td>\n",
       "      <td>0</td>\n",
       "      <td>0</td>\n",
       "      <td>0</td>\n",
       "      <td>0</td>\n",
       "      <td>0</td>\n",
       "      <td>0</td>\n",
       "      <td>0</td>\n",
       "      <td>0</td>\n",
       "      <td>0</td>\n",
       "      <td>0</td>\n",
       "      <td>0</td>\n",
       "      <td>0</td>\n",
       "      <td>0</td>\n",
       "      <td>0</td>\n",
       "    </tr>\n",
       "    <tr>\n",
       "      <th>4</th>\n",
       "      <td>3</td>\n",
       "      <td>114782</td>\n",
       "      <td>41169</td>\n",
       "      <td>31754</td>\n",
       "      <td>3</td>\n",
       "      <td>5</td>\n",
       "      <td>0</td>\n",
       "      <td>1</td>\n",
       "      <td>0</td>\n",
       "      <td>0</td>\n",
       "      <td>0</td>\n",
       "      <td>0</td>\n",
       "      <td>0</td>\n",
       "      <td>0</td>\n",
       "      <td>0</td>\n",
       "      <td>0</td>\n",
       "      <td>0</td>\n",
       "      <td>0</td>\n",
       "      <td>1</td>\n",
       "      <td>0</td>\n",
       "      <td>0</td>\n",
       "      <td>0</td>\n",
       "      <td>0</td>\n",
       "      <td>0</td>\n",
       "      <td>1</td>\n",
       "      <td>0</td>\n",
       "      <td>0</td>\n",
       "      <td>0</td>\n",
       "      <td>0</td>\n",
       "      <td>0</td>\n",
       "      <td>0</td>\n",
       "      <td>1</td>\n",
       "      <td>0</td>\n",
       "      <td>0</td>\n",
       "      <td>0</td>\n",
       "      <td>0</td>\n",
       "      <td>0</td>\n",
       "      <td>0</td>\n",
       "      <td>0</td>\n",
       "      <td>0</td>\n",
       "      <td>...</td>\n",
       "      <td>0</td>\n",
       "      <td>0</td>\n",
       "      <td>0</td>\n",
       "      <td>1</td>\n",
       "      <td>0</td>\n",
       "      <td>0</td>\n",
       "      <td>0</td>\n",
       "      <td>0</td>\n",
       "      <td>0</td>\n",
       "      <td>1</td>\n",
       "      <td>0</td>\n",
       "      <td>1</td>\n",
       "      <td>0</td>\n",
       "      <td>0</td>\n",
       "      <td>0</td>\n",
       "      <td>0</td>\n",
       "      <td>0</td>\n",
       "      <td>0</td>\n",
       "      <td>0</td>\n",
       "      <td>0</td>\n",
       "      <td>0</td>\n",
       "      <td>0</td>\n",
       "      <td>0</td>\n",
       "      <td>0</td>\n",
       "      <td>0</td>\n",
       "      <td>0</td>\n",
       "      <td>0</td>\n",
       "      <td>0</td>\n",
       "      <td>0</td>\n",
       "      <td>0</td>\n",
       "      <td>0</td>\n",
       "      <td>0</td>\n",
       "      <td>0</td>\n",
       "      <td>0</td>\n",
       "      <td>0</td>\n",
       "      <td>0</td>\n",
       "      <td>0</td>\n",
       "      <td>0</td>\n",
       "      <td>0</td>\n",
       "      <td>0</td>\n",
       "    </tr>\n",
       "  </tbody>\n",
       "</table>\n",
       "<p>5 rows × 176 columns</p>\n",
       "</div>"
      ],
      "text/plain": [
       "   device_ip_count  device_id_count  ...  hist_clicks_1-1-1-1  hist_clicks_unknown\n",
       "0                1           114782  ...                    0                    0\n",
       "1                2           114782  ...                    0                    0\n",
       "2                1           114782  ...                    0                    0\n",
       "3                1           114782  ...                    0                    0\n",
       "4                3           114782  ...                    0                    0\n",
       "\n",
       "[5 rows x 176 columns]"
      ]
     },
     "execution_count": 27,
     "metadata": {
      "tags": []
     },
     "output_type": "execute_result"
    }
   ],
   "source": [
    "df1_dummies.head()\n",
    "# if not specifying which columns to \"get_dummies()\", the all the categorical columns will be transform \n",
    "# https://blog.csdn.net/dongyanwen6036/article/details/78555163"
   ]
  },
  {
   "cell_type": "markdown",
   "metadata": {
    "id": "D84RLki_2niw"
   },
   "source": [
    "### 4-2. Data Split"
   ]
  },
  {
   "cell_type": "code",
   "execution_count": 29,
   "metadata": {
    "colab": {
     "base_uri": "https://localhost:8080/"
    },
    "executionInfo": {
     "elapsed": 1138142,
     "status": "ok",
     "timestamp": 1610019544176,
     "user": {
      "displayName": "mintao Wei",
      "photoUrl": "https://lh3.googleusercontent.com/a-/AOh14GjUHrwTX0bIeMcYDzrk5ktRiVbgauRzY5ALVxYZ=s64",
      "userId": "12058205070896827997"
     },
     "user_tz": -480
    },
    "id": "Zlf34Z5C2nix",
    "outputId": "ad6452a7-c3a9-41a1-9d39-e0a3e0a7d041"
   },
   "outputs": [
    {
     "name": "stdout",
     "output_type": "stream",
     "text": [
      "x_train: (137774, 176),x_test:(4577464, 176)\n"
     ]
    }
   ],
   "source": [
    "x_train = df1_dummies.iloc[:len(x_train),:]\n",
    "x_test = df1_dummies.iloc[len(x_train):,:]\n",
    "print(f\"x_train: {x_train.shape},x_test:{x_test.shape}\")"
   ]
  },
  {
   "cell_type": "markdown",
   "metadata": {
    "id": "WBxE6Wgw2nix"
   },
   "source": [
    "## STEP 5: Modeling"
   ]
  },
  {
   "cell_type": "markdown",
   "metadata": {
    "id": "-flnXbX_2nix"
   },
   "source": [
    "## 5-2. Random Forest"
   ]
  },
  {
   "cell_type": "markdown",
   "metadata": {
    "id": "p7gxEKw_2nix"
   },
   "source": [
    "### 5-2-1. RF - RandomizedSearchCV"
   ]
  },
  {
   "cell_type": "code",
   "execution_count": 30,
   "metadata": {
    "colab": {
     "base_uri": "https://localhost:8080/"
    },
    "executionInfo": {
     "elapsed": 1233560,
     "status": "ok",
     "timestamp": 1610019640861,
     "user": {
      "displayName": "mintao Wei",
      "photoUrl": "https://lh3.googleusercontent.com/a-/AOh14GjUHrwTX0bIeMcYDzrk5ktRiVbgauRzY5ALVxYZ=s64",
      "userId": "12058205070896827997"
     },
     "user_tz": -480
    },
    "id": "ina0CmkG2niy",
    "outputId": "ba5e25e4-1f0d-41fc-ca3d-f19171fb9d81"
   },
   "outputs": [
    {
     "name": "stdout",
     "output_type": "stream",
     "text": [
      "{'n_estimators': 50, 'min_samples_split': 2, 'min_samples_leaf': 5, 'max_depth': 7}\n",
      "0.9535906629697911\n"
     ]
    }
   ],
   "source": [
    "from sklearn.tree import DecisionTreeClassifier \n",
    "from sklearn.ensemble import RandomForestClassifier\n",
    "from sklearn.model_selection import GridSearchCV\n",
    "from sklearn.model_selection import RandomizedSearchCV\n",
    "\n",
    "rf_clf = RandomForestClassifier(oob_score = True, max_features='auto' ,random_state=10)\n",
    "rf_parameters = {\"n_estimators\":[50,100,150], \"max_depth\":[3,5,7], \"min_samples_split\" :[2,5,10], \"min_samples_leaf\":[2,5,10]}\n",
    "rf_random_search = RandomizedSearchCV(rf_clf, rf_parameters, n_jobs = -1, cv = 2, scoring = \"neg_log_loss\", n_iter = 10)\n",
    "rf_random_search.fit(x_train, y_train.values.ravel())\n",
    "\n",
    "print(rf_random_search.best_params_)\n",
    "rf_clf_best = rf_random_search.best_estimator_\n",
    "print(rf_clf_best.score(x_train, y_train))"
   ]
  },
  {
   "cell_type": "markdown",
   "metadata": {
    "id": "eE8zKFud2niy"
   },
   "source": [
    "### 5-2-2. RF - Recursive Feature Elimination\n",
    "Select important features based on feature importance scores generated by tree-based model"
   ]
  },
  {
   "cell_type": "code",
   "execution_count": 31,
   "metadata": {
    "executionInfo": {
     "elapsed": 1232733,
     "status": "ok",
     "timestamp": 1610019640863,
     "user": {
      "displayName": "mintao Wei",
      "photoUrl": "https://lh3.googleusercontent.com/a-/AOh14GjUHrwTX0bIeMcYDzrk5ktRiVbgauRzY5ALVxYZ=s64",
      "userId": "12058205070896827997"
     },
     "user_tz": -480
    },
    "id": "ZRNCnsaW2niy"
   },
   "outputs": [],
   "source": [
    "from sklearn.model_selection import StratifiedKFold\n",
    "from sklearn.feature_selection import RFECV\n",
    "\n",
    "def rfe_cv(clf, x_train, y_train, min_features_to_select):\n",
    "\n",
    "    rfecv = RFECV(estimator = clf, step=2, cv=StratifiedKFold(2),min_features_to_select = min_features_to_select,\n",
    "                  scoring='neg_log_loss')\n",
    "\n",
    "    #rfecv = RFECV(estimator = clf, step=1, cv=StratifiedKFold(2),\n",
    "     #             scoring='neg_log_loss')\n",
    "    rfecv.fit(x_train, y_train.values.ravel())\n",
    "    print(f\"Optimal number of features : {rfecv.n_features_}, the optimal log_loss score: {rfecv.grid_scores_.max()}\\n\")\n",
    "    print(f\"The {rfecv.n_features_} features selected: {x_train.columns[rfecv.support_].values}\")\n",
    "\n",
    "    # Plot number of features VS. cross-validation scores\n",
    "    plt.figure(figsize = (12,6))\n",
    "    plt.xlabel(\"Number of features selected\")\n",
    "    plt.ylabel(\"Cross validation score (nb of correct classifications)\")\n",
    "    plt.plot(range(min_features_to_select,\n",
    "                   len(rfecv.grid_scores_) + min_features_to_select),\n",
    "             rfecv.grid_scores_, marker = \"o\", markersize = 3)\n",
    "    #plt.plot(range(len(rfecv.grid_scores_)),\n",
    "     #        rfecv.grid_scores_, marker = \"o\", markersize = 3)\n",
    "    plt.grid(linestyle=\"--\", alpha=0.3)\n",
    "    plt.axvline(x = rfecv.n_features_, ls=\":\",c=\"green\") \n",
    "    #plt.axhline(y = rfecv.grid_scores_.max(), ls=\":\", c=\"green\")\n",
    "    plt.text(rfecv.n_features_, rfecv.grid_scores_.max(),(rfecv.n_features_,round(rfecv.grid_scores_.max(),4)),color='green')\n",
    "    plt.show()\n",
    "    return rfecv"
   ]
  },
  {
   "cell_type": "code",
   "execution_count": 32,
   "metadata": {
    "colab": {
     "base_uri": "https://localhost:8080/",
     "height": 458
    },
    "executionInfo": {
     "elapsed": 2274749,
     "status": "ok",
     "timestamp": 1610020683308,
     "user": {
      "displayName": "mintao Wei",
      "photoUrl": "https://lh3.googleusercontent.com/a-/AOh14GjUHrwTX0bIeMcYDzrk5ktRiVbgauRzY5ALVxYZ=s64",
      "userId": "12058205070896827997"
     },
     "user_tz": -480
    },
    "id": "3AwJAA7Z2niy",
    "outputId": "b1356628-f685-402d-f974-82e9c670777b"
   },
   "outputs": [
    {
     "name": "stdout",
     "output_type": "stream",
     "text": [
      "Optimal number of features : 6, the optimal log_loss score: -0.06621912741455033\n",
      "\n",
      "The 6 features selected: ['user_id_count' 'num_clicks' 'C18_2' 'hist_clicks_0-0' 'hist_clicks_1'\n",
      " 'hist_clicks_1-1']\n"
     ]
    },
    {
     "data": {
      "image/png": "[encoded data removed]",
      "text/plain": [
       "<Figure size 864x432 with 1 Axes>"
      ]
     },
     "metadata": {
      "needs_background": "light",
      "tags": []
     },
     "output_type": "display_data"
    }
   ],
   "source": [
    "rf_rfecv = rfe_cv(rf_clf_best, x_train, y_train, min_features_to_select = 3)"
   ]
  },
  {
   "cell_type": "markdown",
   "metadata": {
    "id": "24SjC_il2niz"
   },
   "source": [
    "### 5-2-3. RF - Re-train the Model using selected features only"
   ]
  },
  {
   "cell_type": "markdown",
   "metadata": {
    "id": "HYyvsGRr2niz"
   },
   "source": [
    "I use RadomizedSearchCV because RandomForest generally has a lot of hyperparameters to tune"
   ]
  },
  {
   "cell_type": "code",
   "execution_count": 33,
   "metadata": {
    "colab": {
     "base_uri": "https://localhost:8080/"
    },
    "executionInfo": {
     "elapsed": 2406222,
     "status": "ok",
     "timestamp": 1610020816270,
     "user": {
      "displayName": "mintao Wei",
      "photoUrl": "https://lh3.googleusercontent.com/a-/AOh14GjUHrwTX0bIeMcYDzrk5ktRiVbgauRzY5ALVxYZ=s64",
      "userId": "12058205070896827997"
     },
     "user_tz": -480
    },
    "id": "zd_ciH1d2niz",
    "outputId": "46329b53-9c28-4513-c67d-e5ffca7f60cb"
   },
   "outputs": [
    {
     "name": "stdout",
     "output_type": "stream",
     "text": [
      "{'n_estimators': 50, 'min_samples_split': 10, 'min_samples_leaf': 10, 'max_depth': 7}\n",
      "0.9577714227648177\n"
     ]
    }
   ],
   "source": [
    "x_train_rf_shrink = x_train.loc[:,rf_rfecv.support_]\n",
    "x_test_rf_shrink = x_test.loc[:,rf_rfecv.support_]\n",
    "\n",
    "rf_parameters = {\"n_estimators\":[50,80,100,150], \"max_depth\":[3,5,7], \"min_samples_split\" :[2,5,10], \"min_samples_leaf\":[2,5,10]}\n",
    "rf_random_search = RandomizedSearchCV(rf_clf, rf_parameters, n_jobs = -1, cv = 3, scoring = \"neg_log_loss\", n_iter = 20)\n",
    "rf_random_search.fit(x_train_rf_shrink, y_train.values.ravel())\n",
    "\n",
    "print(rf_random_search.best_params_)\n",
    "rf_clf_best = rf_random_search.best_estimator_\n",
    "print(rf_clf_best.score(x_train_rf_shrink, y_train.values.ravel()))"
   ]
  },
  {
   "cell_type": "markdown",
   "metadata": {
    "id": "EDsZYlS52ni0"
   },
   "source": [
    "# STEP 6. Evaluation"
   ]
  },
  {
   "cell_type": "code",
   "execution_count": 34,
   "metadata": {
    "executionInfo": {
     "elapsed": 2404531,
     "status": "ok",
     "timestamp": 1610020816271,
     "user": {
      "displayName": "mintao Wei",
      "photoUrl": "https://lh3.googleusercontent.com/a-/AOh14GjUHrwTX0bIeMcYDzrk5ktRiVbgauRzY5ALVxYZ=s64",
      "userId": "12058205070896827997"
     },
     "user_tz": -480
    },
    "id": "FeJ0QdQsjxGX"
   },
   "outputs": [],
   "source": [
    "# hold out 20% as validation dataset for evaluation purpose\n",
    "from sklearn.model_selection import train_test_split\n",
    "X_train, X_valid, Y_train, Y_valid = train_test_split(x_train_rf_shrink, y_train, test_size=0.2, random_state=42)"
   ]
  },
  {
   "cell_type": "code",
   "execution_count": 35,
   "metadata": {
    "collapsed": true,
    "executionInfo": {
     "elapsed": 2403592,
     "status": "ok",
     "timestamp": 1610020816273,
     "user": {
      "displayName": "mintao Wei",
      "photoUrl": "https://lh3.googleusercontent.com/a-/AOh14GjUHrwTX0bIeMcYDzrk5ktRiVbgauRzY5ALVxYZ=s64",
      "userId": "12058205070896827997"
     },
     "user_tz": -480
    },
    "id": "-OYbgnkZ2ni3"
   },
   "outputs": [],
   "source": [
    "# Confusion matrix => just for reference: since we are looking at the training set exclusively\n",
    "from sklearn.metrics import confusion_matrix\n",
    "\n",
    "def draw_confmat(y_true, y_pred):\n",
    "    confmat = confusion_matrix(y_true = y_true, y_pred = y_pred, labels=[0, 1])\n",
    "    fig, ax = plt.subplots(figsize=(2.5, 2.5))\n",
    "    ax.matshow(confmat, cmap=plt.cm.Blues, alpha=0.3)\n",
    "    for i in range(confmat.shape[0]):\n",
    "        for j in range(confmat.shape[1]):\n",
    "            ax.text(x=j, y=i, s=confmat[i, j], va='center', ha='center')\n",
    "    print(\"Type I error: \",round(confmat[0][1]/confmat[0].sum(),4))\n",
    "    print(\"Type II error: \",round(confmat[1][0]/confmat[0].sum(),4))\n",
    "    plt.xlabel('Predicted label')\n",
    "    plt.ylabel('True label')\n",
    "\n",
    "    plt.tight_layout()\n",
    "    plt.show()"
   ]
  },
  {
   "cell_type": "code",
   "execution_count": 36,
   "metadata": {
    "colab": {
     "base_uri": "https://localhost:8080/",
     "height": 222
    },
    "executionInfo": {
     "elapsed": 2403945,
     "status": "ok",
     "timestamp": 1610020817463,
     "user": {
      "displayName": "mintao Wei",
      "photoUrl": "https://lh3.googleusercontent.com/a-/AOh14GjUHrwTX0bIeMcYDzrk5ktRiVbgauRzY5ALVxYZ=s64",
      "userId": "12058205070896827997"
     },
     "user_tz": -480
    },
    "id": "jEvWF2BNEakq",
    "outputId": "e9d1d3bd-8d23-404e-b441-c87eb0b1901c"
   },
   "outputs": [
    {
     "name": "stdout",
     "output_type": "stream",
     "text": [
      "Type I error:  0.0303\n",
      "Type II error:  0.052\n"
     ]
    },
    {
     "data": {
      "image/png": "[encoded data removed]",
      "text/plain": [
       "<Figure size 180x180 with 1 Axes>"
      ]
     },
     "metadata": {
      "needs_background": "light",
      "tags": []
     },
     "output_type": "display_data"
    }
   ],
   "source": [
    "draw_confmat(Y_valid,rf_clf_best.predict(X_valid))"
   ]
  },
  {
   "cell_type": "markdown",
   "metadata": {
    "id": "H0WjTOPI2ni3"
   },
   "source": [
    "# STEP 7. Format the submission"
   ]
  },
  {
   "cell_type": "code",
   "execution_count": 37,
   "metadata": {
    "collapsed": true,
    "executionInfo": {
     "elapsed": 22105,
     "status": "ok",
     "timestamp": 1610021245217,
     "user": {
      "displayName": "mintao Wei",
      "photoUrl": "https://lh3.googleusercontent.com/a-/AOh14GjUHrwTX0bIeMcYDzrk5ktRiVbgauRzY5ALVxYZ=s64",
      "userId": "12058205070896827997"
     },
     "user_tz": -480
    },
    "id": "p3tmz_-v2ni3"
   },
   "outputs": [],
   "source": [
    "# Generate the prediction using the whole training set\n",
    "pd.set_option('display.float_format', lambda x: '%.3f' % x)\n",
    "submission_df = pd.DataFrame({\"id\":test.id,\"click\":rf_clf_best.predict(x_test_rf_shrink)})\n",
    "submission_df.to_csv(\"submission.csv\", sep = \",\", index=False)"
   ]
  },
  {
   "cell_type": "code",
   "execution_count": 38,
   "metadata": {
    "colab": {
     "base_uri": "https://localhost:8080/"
    },
    "executionInfo": {
     "elapsed": 21751,
     "status": "ok",
     "timestamp": 1610021245229,
     "user": {
      "displayName": "mintao Wei",
      "photoUrl": "https://lh3.googleusercontent.com/a-/AOh14GjUHrwTX0bIeMcYDzrk5ktRiVbgauRzY5ALVxYZ=s64",
      "userId": "12058205070896827997"
     },
     "user_tz": -480
    },
    "id": "QCXxxXCVNgxr",
    "outputId": "3f659d74-03cd-40d7-8fc3-073e10b72099"
   },
   "outputs": [
    {
     "data": {
      "text/plain": [
       "0    4411545\n",
       "1     165919\n",
       "Name: click, dtype: int64"
      ]
     },
     "execution_count": 38,
     "metadata": {
      "tags": []
     },
     "output_type": "execute_result"
    }
   ],
   "source": [
    "submission_df.click.value_counts()"
   ]
  }
 ],
 "metadata": {
  "colab": {
   "collapsed_sections": [],
   "name": "Avazu(RF_RFE) 20210107.ipynb",
   "provenance": []
  },
  "kernelspec": {
   "display_name": "Python 3",
   "language": "python",
   "name": "python3"
  },
  "language_info": {
   "codemirror_mode": {
    "name": "ipython",
    "version": 3
   },
   "file_extension": ".py",
   "mimetype": "text/x-python",
   "name": "python",
   "nbconvert_exporter": "python",
   "pygments_lexer": "ipython3",
   "version": "3.7.4"
  }
 },
 "nbformat": 4,
 "nbformat_minor": 1
}
