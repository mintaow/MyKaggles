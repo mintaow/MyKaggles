{
 "cells": [
  {
   "cell_type": "code",
   "execution_count": 1,
   "metadata": {
    "_cell_guid": "b1076dfc-b9ad-4769-8c92-a6c4dae69d19",
    "_uuid": "8f2839f25d086af736a60e9eeb907d3b93b6e0e5",
    "execution": {
     "iopub.execute_input": "2020-11-03T15:28:05.438278Z",
     "iopub.status.busy": "2020-11-03T15:28:05.437325Z",
     "iopub.status.idle": "2020-11-03T15:28:05.445142Z",
     "shell.execute_reply": "2020-11-03T15:28:05.444379Z"
    },
    "papermill": {
     "duration": 0.038532,
     "end_time": "2020-11-03T15:28:05.445285",
     "exception": false,
     "start_time": "2020-11-03T15:28:05.406753",
     "status": "completed"
    },
    "tags": []
   },
   "outputs": [
    {
     "name": "stdout",
     "output_type": "stream",
     "text": [
      "/kaggle/input/home-data-for-ml-course/train.csv.gz\n",
      "/kaggle/input/home-data-for-ml-course/test.csv\n",
      "/kaggle/input/home-data-for-ml-course/sample_submission.csv\n",
      "/kaggle/input/home-data-for-ml-course/test.csv.gz\n",
      "/kaggle/input/home-data-for-ml-course/sample_submission.csv.gz\n",
      "/kaggle/input/home-data-for-ml-course/train.csv\n",
      "/kaggle/input/home-data-for-ml-course/data_description.txt\n"
     ]
    }
   ],
   "source": [
    "# This Python 3 environment comes with many helpful analytics libraries installed\n",
    "# It is defined by the kaggle/python Docker image: https://github.com/kaggle/docker-python\n",
    "# For example, here's several helpful packages to load\n",
    "\n",
    "import numpy as np # linear algebra\n",
    "import pandas as pd # data processing, CSV file I/O (e.g. pd.read_csv)\n",
    "\n",
    "# Input data files are available in the read-only \"../input/\" directory\n",
    "# For example, running this (by clicking run or pressing Shift+Enter) will list all files under the input directory\n",
    "\n",
    "import os\n",
    "for dirname, _, filenames in os.walk('/kaggle/input'):\n",
    "    for filename in filenames:\n",
    "        print(os.path.join(dirname, filename))\n",
    "\n",
    "# You can write up to 5GB to the current directory (/kaggle/working/) that gets preserved as output when you create a version using \"Save & Run All\" \n",
    "# You can also write temporary files to /kaggle/temp/, but they won't be saved outside of the current session"
   ]
  },
  {
   "cell_type": "markdown",
   "metadata": {
    "papermill": {
     "duration": 0.025026,
     "end_time": "2020-11-03T15:28:05.496219",
     "exception": false,
     "start_time": "2020-11-03T15:28:05.471193",
     "status": "completed"
    },
    "tags": []
   },
   "source": [
    "## STEP 1: load in the dataset and conduct data exploratory analysis"
   ]
  },
  {
   "cell_type": "code",
   "execution_count": 2,
   "metadata": {
    "_cell_guid": "79c7e3d0-c299-4dcb-8224-4455121ee9b0",
    "_uuid": "d629ff2d2480ee46fbb7e2d37f6b5fab8052498a",
    "execution": {
     "iopub.execute_input": "2020-11-03T15:28:05.551571Z",
     "iopub.status.busy": "2020-11-03T15:28:05.550866Z",
     "iopub.status.idle": "2020-11-03T15:28:05.613668Z",
     "shell.execute_reply": "2020-11-03T15:28:05.614166Z"
    },
    "papermill": {
     "duration": 0.093865,
     "end_time": "2020-11-03T15:28:05.614309",
     "exception": false,
     "start_time": "2020-11-03T15:28:05.520444",
     "status": "completed"
    },
    "tags": []
   },
   "outputs": [],
   "source": [
    "# the reason we should not include index in the training set is because we are passing every columns into XGBoost, including ID can have overfitting problems\n",
    "# there is really a huge huge difference!\n",
    "\n",
    "train_df = pd.read_csv(\"../input/home-data-for-ml-course/train.csv\",index_col=0) \n",
    "test_df = pd.read_csv(\"../input/home-data-for-ml-course/test.csv\",index_col=0)"
   ]
  },
  {
   "cell_type": "code",
   "execution_count": 3,
   "metadata": {
    "execution": {
     "iopub.execute_input": "2020-11-03T15:28:05.667319Z",
     "iopub.status.busy": "2020-11-03T15:28:05.666634Z",
     "iopub.status.idle": "2020-11-03T15:28:05.703300Z",
     "shell.execute_reply": "2020-11-03T15:28:05.702667Z"
    },
    "papermill": {
     "duration": 0.064587,
     "end_time": "2020-11-03T15:28:05.703402",
     "exception": false,
     "start_time": "2020-11-03T15:28:05.638815",
     "status": "completed"
    },
    "tags": []
   },
   "outputs": [
    {
     "data": {
      "text/html": [
       "<div>\n",
       "<style scoped>\n",
       "    .dataframe tbody tr th:only-of-type {\n",
       "        vertical-align: middle;\n",
       "    }\n",
       "\n",
       "    .dataframe tbody tr th {\n",
       "        vertical-align: top;\n",
       "    }\n",
       "\n",
       "    .dataframe thead th {\n",
       "        text-align: right;\n",
       "    }\n",
       "</style>\n",
       "<table border=\"1\" class=\"dataframe\">\n",
       "  <thead>\n",
       "    <tr style=\"text-align: right;\">\n",
       "      <th></th>\n",
       "      <th>MSSubClass</th>\n",
       "      <th>MSZoning</th>\n",
       "      <th>LotFrontage</th>\n",
       "      <th>LotArea</th>\n",
       "      <th>Street</th>\n",
       "      <th>Alley</th>\n",
       "      <th>LotShape</th>\n",
       "      <th>LandContour</th>\n",
       "      <th>Utilities</th>\n",
       "      <th>LotConfig</th>\n",
       "      <th>...</th>\n",
       "      <th>PoolArea</th>\n",
       "      <th>PoolQC</th>\n",
       "      <th>Fence</th>\n",
       "      <th>MiscFeature</th>\n",
       "      <th>MiscVal</th>\n",
       "      <th>MoSold</th>\n",
       "      <th>YrSold</th>\n",
       "      <th>SaleType</th>\n",
       "      <th>SaleCondition</th>\n",
       "      <th>SalePrice</th>\n",
       "    </tr>\n",
       "    <tr>\n",
       "      <th>Id</th>\n",
       "      <th></th>\n",
       "      <th></th>\n",
       "      <th></th>\n",
       "      <th></th>\n",
       "      <th></th>\n",
       "      <th></th>\n",
       "      <th></th>\n",
       "      <th></th>\n",
       "      <th></th>\n",
       "      <th></th>\n",
       "      <th></th>\n",
       "      <th></th>\n",
       "      <th></th>\n",
       "      <th></th>\n",
       "      <th></th>\n",
       "      <th></th>\n",
       "      <th></th>\n",
       "      <th></th>\n",
       "      <th></th>\n",
       "      <th></th>\n",
       "      <th></th>\n",
       "    </tr>\n",
       "  </thead>\n",
       "  <tbody>\n",
       "    <tr>\n",
       "      <th>1</th>\n",
       "      <td>60</td>\n",
       "      <td>RL</td>\n",
       "      <td>65.0</td>\n",
       "      <td>8450</td>\n",
       "      <td>Pave</td>\n",
       "      <td>NaN</td>\n",
       "      <td>Reg</td>\n",
       "      <td>Lvl</td>\n",
       "      <td>AllPub</td>\n",
       "      <td>Inside</td>\n",
       "      <td>...</td>\n",
       "      <td>0</td>\n",
       "      <td>NaN</td>\n",
       "      <td>NaN</td>\n",
       "      <td>NaN</td>\n",
       "      <td>0</td>\n",
       "      <td>2</td>\n",
       "      <td>2008</td>\n",
       "      <td>WD</td>\n",
       "      <td>Normal</td>\n",
       "      <td>208500</td>\n",
       "    </tr>\n",
       "    <tr>\n",
       "      <th>2</th>\n",
       "      <td>20</td>\n",
       "      <td>RL</td>\n",
       "      <td>80.0</td>\n",
       "      <td>9600</td>\n",
       "      <td>Pave</td>\n",
       "      <td>NaN</td>\n",
       "      <td>Reg</td>\n",
       "      <td>Lvl</td>\n",
       "      <td>AllPub</td>\n",
       "      <td>FR2</td>\n",
       "      <td>...</td>\n",
       "      <td>0</td>\n",
       "      <td>NaN</td>\n",
       "      <td>NaN</td>\n",
       "      <td>NaN</td>\n",
       "      <td>0</td>\n",
       "      <td>5</td>\n",
       "      <td>2007</td>\n",
       "      <td>WD</td>\n",
       "      <td>Normal</td>\n",
       "      <td>181500</td>\n",
       "    </tr>\n",
       "    <tr>\n",
       "      <th>3</th>\n",
       "      <td>60</td>\n",
       "      <td>RL</td>\n",
       "      <td>68.0</td>\n",
       "      <td>11250</td>\n",
       "      <td>Pave</td>\n",
       "      <td>NaN</td>\n",
       "      <td>IR1</td>\n",
       "      <td>Lvl</td>\n",
       "      <td>AllPub</td>\n",
       "      <td>Inside</td>\n",
       "      <td>...</td>\n",
       "      <td>0</td>\n",
       "      <td>NaN</td>\n",
       "      <td>NaN</td>\n",
       "      <td>NaN</td>\n",
       "      <td>0</td>\n",
       "      <td>9</td>\n",
       "      <td>2008</td>\n",
       "      <td>WD</td>\n",
       "      <td>Normal</td>\n",
       "      <td>223500</td>\n",
       "    </tr>\n",
       "    <tr>\n",
       "      <th>4</th>\n",
       "      <td>70</td>\n",
       "      <td>RL</td>\n",
       "      <td>60.0</td>\n",
       "      <td>9550</td>\n",
       "      <td>Pave</td>\n",
       "      <td>NaN</td>\n",
       "      <td>IR1</td>\n",
       "      <td>Lvl</td>\n",
       "      <td>AllPub</td>\n",
       "      <td>Corner</td>\n",
       "      <td>...</td>\n",
       "      <td>0</td>\n",
       "      <td>NaN</td>\n",
       "      <td>NaN</td>\n",
       "      <td>NaN</td>\n",
       "      <td>0</td>\n",
       "      <td>2</td>\n",
       "      <td>2006</td>\n",
       "      <td>WD</td>\n",
       "      <td>Abnorml</td>\n",
       "      <td>140000</td>\n",
       "    </tr>\n",
       "    <tr>\n",
       "      <th>5</th>\n",
       "      <td>60</td>\n",
       "      <td>RL</td>\n",
       "      <td>84.0</td>\n",
       "      <td>14260</td>\n",
       "      <td>Pave</td>\n",
       "      <td>NaN</td>\n",
       "      <td>IR1</td>\n",
       "      <td>Lvl</td>\n",
       "      <td>AllPub</td>\n",
       "      <td>FR2</td>\n",
       "      <td>...</td>\n",
       "      <td>0</td>\n",
       "      <td>NaN</td>\n",
       "      <td>NaN</td>\n",
       "      <td>NaN</td>\n",
       "      <td>0</td>\n",
       "      <td>12</td>\n",
       "      <td>2008</td>\n",
       "      <td>WD</td>\n",
       "      <td>Normal</td>\n",
       "      <td>250000</td>\n",
       "    </tr>\n",
       "  </tbody>\n",
       "</table>\n",
       "<p>5 rows × 80 columns</p>\n",
       "</div>"
      ],
      "text/plain": [
       "    MSSubClass MSZoning  LotFrontage  LotArea Street Alley LotShape  \\\n",
       "Id                                                                    \n",
       "1           60       RL         65.0     8450   Pave   NaN      Reg   \n",
       "2           20       RL         80.0     9600   Pave   NaN      Reg   \n",
       "3           60       RL         68.0    11250   Pave   NaN      IR1   \n",
       "4           70       RL         60.0     9550   Pave   NaN      IR1   \n",
       "5           60       RL         84.0    14260   Pave   NaN      IR1   \n",
       "\n",
       "   LandContour Utilities LotConfig  ... PoolArea PoolQC Fence MiscFeature  \\\n",
       "Id                                  ...                                     \n",
       "1          Lvl    AllPub    Inside  ...        0    NaN   NaN         NaN   \n",
       "2          Lvl    AllPub       FR2  ...        0    NaN   NaN         NaN   \n",
       "3          Lvl    AllPub    Inside  ...        0    NaN   NaN         NaN   \n",
       "4          Lvl    AllPub    Corner  ...        0    NaN   NaN         NaN   \n",
       "5          Lvl    AllPub       FR2  ...        0    NaN   NaN         NaN   \n",
       "\n",
       "   MiscVal MoSold  YrSold  SaleType  SaleCondition  SalePrice  \n",
       "Id                                                             \n",
       "1        0      2    2008        WD         Normal     208500  \n",
       "2        0      5    2007        WD         Normal     181500  \n",
       "3        0      9    2008        WD         Normal     223500  \n",
       "4        0      2    2006        WD        Abnorml     140000  \n",
       "5        0     12    2008        WD         Normal     250000  \n",
       "\n",
       "[5 rows x 80 columns]"
      ]
     },
     "execution_count": 3,
     "metadata": {},
     "output_type": "execute_result"
    }
   ],
   "source": [
    "train_df_copy = train_df.copy()\n",
    "train_df.head()"
   ]
  },
  {
   "cell_type": "code",
   "execution_count": 4,
   "metadata": {
    "execution": {
     "iopub.execute_input": "2020-11-03T15:28:05.763451Z",
     "iopub.status.busy": "2020-11-03T15:28:05.762605Z",
     "iopub.status.idle": "2020-11-03T15:28:06.281041Z",
     "shell.execute_reply": "2020-11-03T15:28:06.280481Z"
    },
    "papermill": {
     "duration": 0.552971,
     "end_time": "2020-11-03T15:28:06.281180",
     "exception": false,
     "start_time": "2020-11-03T15:28:05.728209",
     "status": "completed"
    },
    "tags": []
   },
   "outputs": [
    {
     "data": {
      "text/plain": [
       "array([[<matplotlib.axes._subplots.AxesSubplot object at 0x7f0bc76f8e10>,\n",
       "        <matplotlib.axes._subplots.AxesSubplot object at 0x7f0bc74efb10>]],\n",
       "      dtype=object)"
      ]
     },
     "execution_count": 4,
     "metadata": {},
     "output_type": "execute_result"
    },
    {
     "data": {
      "image/png": "[encoded data removed]",
      "text/plain": [
       "<Figure size 432x288 with 2 Axes>"
      ]
     },
     "metadata": {
      "needs_background": "light"
     },
     "output_type": "display_data"
    }
   ],
   "source": [
    "%matplotlib inline\n",
    "prices = pd.DataFrame({\"price\":train_df[\"SalePrice\"], \"log(price + 1)\":np.log1p(train_df[\"SalePrice\"])})\n",
    "prices.hist()"
   ]
  },
  {
   "cell_type": "markdown",
   "metadata": {
    "papermill": {
     "duration": 0.02657,
     "end_time": "2020-11-03T15:28:06.335229",
     "exception": false,
     "start_time": "2020-11-03T15:28:06.308659",
     "status": "completed"
    },
    "tags": []
   },
   "source": [
    "## STEP 2: Split the X and Y,and concat test dataset for cleaning purposes"
   ]
  },
  {
   "cell_type": "code",
   "execution_count": 5,
   "metadata": {
    "execution": {
     "iopub.execute_input": "2020-11-03T15:28:06.393864Z",
     "iopub.status.busy": "2020-11-03T15:28:06.392993Z",
     "iopub.status.idle": "2020-11-03T15:28:06.397780Z",
     "shell.execute_reply": "2020-11-03T15:28:06.397277Z"
    },
    "papermill": {
     "duration": 0.036685,
     "end_time": "2020-11-03T15:28:06.397881",
     "exception": false,
     "start_time": "2020-11-03T15:28:06.361196",
     "status": "completed"
    },
    "tags": []
   },
   "outputs": [],
   "source": [
    "# before concating test and train, we need to first pop out the Y column, otherwise their dimensions cannot match\n",
    "train_y=np.log1p(train_df.pop(\"SalePrice\"))"
   ]
  },
  {
   "cell_type": "code",
   "execution_count": 6,
   "metadata": {
    "execution": {
     "iopub.execute_input": "2020-11-03T15:28:06.462258Z",
     "iopub.status.busy": "2020-11-03T15:28:06.461403Z",
     "iopub.status.idle": "2020-11-03T15:28:06.480882Z",
     "shell.execute_reply": "2020-11-03T15:28:06.480332Z"
    },
    "papermill": {
     "duration": 0.056774,
     "end_time": "2020-11-03T15:28:06.480988",
     "exception": false,
     "start_time": "2020-11-03T15:28:06.424214",
     "status": "completed"
    },
    "tags": []
   },
   "outputs": [
    {
     "name": "stdout",
     "output_type": "stream",
     "text": [
      "train_df shape:(1460, 79), and test_df shape:(1459, 79)\n",
      "after concatenation: all_df shape:(2919, 79)\n"
     ]
    }
   ],
   "source": [
    "# Let's see the shape of all_df before and after concatenation\n",
    "print(f'train_df shape:{train_df.shape}, and test_df shape:{test_df.shape}')\n",
    "all_df = pd.concat([train_df,test_df],axis=0)\n",
    "print(f'after concatenation: all_df shape:{all_df.shape}')"
   ]
  },
  {
   "cell_type": "markdown",
   "metadata": {
    "papermill": {
     "duration": 0.026563,
     "end_time": "2020-11-03T15:28:06.534808",
     "exception": false,
     "start_time": "2020-11-03T15:28:06.508245",
     "status": "completed"
    },
    "tags": []
   },
   "source": [
    "## STEP 3: Data cleaning, null value imputations"
   ]
  },
  {
   "cell_type": "markdown",
   "metadata": {
    "papermill": {
     "duration": 0.026579,
     "end_time": "2020-11-03T15:28:06.588312",
     "exception": false,
     "start_time": "2020-11-03T15:28:06.561733",
     "status": "completed"
    },
    "tags": []
   },
   "source": [
    "### 3-1. Null detection and inputation"
   ]
  },
  {
   "cell_type": "code",
   "execution_count": 7,
   "metadata": {
    "execution": {
     "iopub.execute_input": "2020-11-03T15:28:06.667588Z",
     "iopub.status.busy": "2020-11-03T15:28:06.666463Z",
     "iopub.status.idle": "2020-11-03T15:28:06.688928Z",
     "shell.execute_reply": "2020-11-03T15:28:06.688013Z"
    },
    "papermill": {
     "duration": 0.073959,
     "end_time": "2020-11-03T15:28:06.689125",
     "exception": false,
     "start_time": "2020-11-03T15:28:06.615166",
     "status": "completed"
    },
    "tags": []
   },
   "outputs": [
    {
     "name": "stdout",
     "output_type": "stream",
     "text": [
      "13965\n"
     ]
    },
    {
     "data": {
      "text/plain": [
       "PoolQC          2909\n",
       "MiscFeature     2814\n",
       "Alley           2721\n",
       "Fence           2348\n",
       "FireplaceQu     1420\n",
       "LotFrontage      486\n",
       "GarageCond       159\n",
       "GarageQual       159\n",
       "GarageYrBlt      159\n",
       "GarageFinish     159\n",
       "dtype: int64"
      ]
     },
     "execution_count": 7,
     "metadata": {},
     "output_type": "execute_result"
    }
   ],
   "source": [
    "# how many null values?\n",
    "print(all_df.isnull().sum().sum())\n",
    "all_df.isnull().sum().sort_values(ascending = False).head(10)"
   ]
  },
  {
   "cell_type": "code",
   "execution_count": 8,
   "metadata": {
    "execution": {
     "iopub.execute_input": "2020-11-03T15:28:06.781986Z",
     "iopub.status.busy": "2020-11-03T15:28:06.779011Z",
     "iopub.status.idle": "2020-11-03T15:28:06.787379Z",
     "shell.execute_reply": "2020-11-03T15:28:06.786526Z"
    },
    "papermill": {
     "duration": 0.05675,
     "end_time": "2020-11-03T15:28:06.787507",
     "exception": false,
     "start_time": "2020-11-03T15:28:06.730757",
     "status": "completed"
    },
    "tags": []
   },
   "outputs": [
    {
     "data": {
      "text/plain": [
       "MSSubClass         int64\n",
       "MSZoning          object\n",
       "LotFrontage      float64\n",
       "LotArea            int64\n",
       "Street            object\n",
       "                  ...   \n",
       "MiscVal            int64\n",
       "MoSold             int64\n",
       "YrSold             int64\n",
       "SaleType          object\n",
       "SaleCondition     object\n",
       "Length: 79, dtype: object"
      ]
     },
     "execution_count": 8,
     "metadata": {},
     "output_type": "execute_result"
    }
   ],
   "source": [
    "all_df.dtypes"
   ]
  },
  {
   "cell_type": "code",
   "execution_count": 9,
   "metadata": {
    "execution": {
     "iopub.execute_input": "2020-11-03T15:28:06.883953Z",
     "iopub.status.busy": "2020-11-03T15:28:06.883006Z",
     "iopub.status.idle": "2020-11-03T15:28:08.057815Z",
     "shell.execute_reply": "2020-11-03T15:28:08.057130Z"
    },
    "papermill": {
     "duration": 1.227014,
     "end_time": "2020-11-03T15:28:08.057940",
     "exception": false,
     "start_time": "2020-11-03T15:28:06.830926",
     "status": "completed"
    },
    "tags": []
   },
   "outputs": [
    {
     "name": "stdout",
     "output_type": "stream",
     "text": [
      "Now our non-categorical cols has: 0 null values\n"
     ]
    }
   ],
   "source": [
    "# we use KNN for all non-categorical columns to deal with nulls\n",
    "all_df_val = all_df.loc[:,all_df.dtypes != \"object\"]\n",
    "\n",
    "from sklearn.impute import KNNImputer\n",
    "KNN_imputer = KNNImputer(n_neighbors = 2)\n",
    "copy_index = all_df_val.index\n",
    "copy_columns = all_df_val.columns\n",
    "all_df_val = pd.DataFrame(KNN_imputer.fit_transform(all_df_val),index = copy_index,columns=copy_columns)\n",
    "all_df.loc[:,all_df.dtypes != \"object\"]  = all_df_val\n",
    "\n",
    "print(f'Now our non-categorical cols has: {all_df_val.isnull().sum().sum()} null values')"
   ]
  },
  {
   "cell_type": "markdown",
   "metadata": {
    "papermill": {
     "duration": 0.028818,
     "end_time": "2020-11-03T15:28:08.117969",
     "exception": false,
     "start_time": "2020-11-03T15:28:08.089151",
     "status": "completed"
    },
    "tags": []
   },
   "source": [
    "For those categorical variables, we simply convert NaN to \"missing\""
   ]
  },
  {
   "cell_type": "code",
   "execution_count": 10,
   "metadata": {
    "execution": {
     "iopub.execute_input": "2020-11-03T15:28:08.186797Z",
     "iopub.status.busy": "2020-11-03T15:28:08.180711Z",
     "iopub.status.idle": "2020-11-03T15:28:08.225749Z",
     "shell.execute_reply": "2020-11-03T15:28:08.225081Z"
    },
    "papermill": {
     "duration": 0.079153,
     "end_time": "2020-11-03T15:28:08.225853",
     "exception": false,
     "start_time": "2020-11-03T15:28:08.146700",
     "status": "completed"
    },
    "tags": []
   },
   "outputs": [
    {
     "name": "stdout",
     "output_type": "stream",
     "text": [
      "Now our overall all_df has: 0 null values\n"
     ]
    }
   ],
   "source": [
    "all_df.loc[:,all_df.dtypes == \"object\"] = all_df.fillna(\"missing\")\n",
    "print(f'Now our overall all_df has: {all_df.isnull().sum().sum()} null values')"
   ]
  },
  {
   "cell_type": "markdown",
   "metadata": {
    "papermill": {
     "duration": 0.029105,
     "end_time": "2020-11-03T15:28:08.284678",
     "exception": false,
     "start_time": "2020-11-03T15:28:08.255573",
     "status": "completed"
    },
    "tags": []
   },
   "source": [
    "### Before conducting OHE, I would first explore the categorical variables' dimensions. Then, I will create new segregation for those high-dimension columns\n",
    "The idea is explorting patterns using train_df only (since we need to include SalePrice), and apply the matching relationship in all_df."
   ]
  },
  {
   "cell_type": "code",
   "execution_count": 11,
   "metadata": {
    "execution": {
     "iopub.execute_input": "2020-11-03T15:28:08.358724Z",
     "iopub.status.busy": "2020-11-03T15:28:08.356827Z",
     "iopub.status.idle": "2020-11-03T15:28:08.392624Z",
     "shell.execute_reply": "2020-11-03T15:28:08.391958Z"
    },
    "papermill": {
     "duration": 0.078272,
     "end_time": "2020-11-03T15:28:08.392730",
     "exception": false,
     "start_time": "2020-11-03T15:28:08.314458",
     "status": "completed"
    },
    "tags": []
   },
   "outputs": [],
   "source": [
    "# slice only the object columns\n",
    "all_df_obj = all_df.loc[:,all_df.dtypes == \"object\"]\n",
    "\n",
    "# we need to shrink the dimensions for Neighborhood/MSSubClass/Exterior2nd/Exterior1st\n",
    "# so that there wouldn't be that much dummies under OHE.\n",
    "dummy_dim = all_df_obj.nunique().sort_values(ascending = False)\n",
    "dummy_dim.head(5)\n",
    "\n",
    "# record these several high-dimension columns\n",
    "obj_features = [\"Neighborhood\",\"MSSubClass\",\"Extebrior2nd\",\"Exterior1st\"]"
   ]
  },
  {
   "cell_type": "code",
   "execution_count": 12,
   "metadata": {
    "execution": {
     "iopub.execute_input": "2020-11-03T15:28:08.466687Z",
     "iopub.status.busy": "2020-11-03T15:28:08.461559Z",
     "iopub.status.idle": "2020-11-03T15:28:08.479284Z",
     "shell.execute_reply": "2020-11-03T15:28:08.478573Z"
    },
    "papermill": {
     "duration": 0.057007,
     "end_time": "2020-11-03T15:28:08.479393",
     "exception": false,
     "start_time": "2020-11-03T15:28:08.422386",
     "status": "completed"
    },
    "tags": []
   },
   "outputs": [],
   "source": [
    "def get_new_segment(train_df_copy, high_dim_col):\n",
    "    '''\n",
    "    This function takes a training dataframe as input, returns a dictionary with original values as keys\n",
    "    and the corresponding new segments as values\n",
    "    \n",
    "    new segments includes \"very high price\", \"high price\", \"mid price\", \"low price\", \"very low price\"\n",
    "    \n",
    "    Input:\n",
    "        train_df, high_dim_col(string)\n",
    "    Output:\n",
    "        new_seg(dict)\n",
    "    '''\n",
    "    # transform price into log_price\n",
    "    train_df_copy.SalePrice = np.log1p(train_df_copy.SalePrice)\n",
    "    \n",
    "    \n",
    "    train_df_col_avg_price = pd.DataFrame(train_df_copy.groupby(high_dim_col).SalePrice.mean())\n",
    "    train_df_col_avg_price.loc[train_df_col_avg_price.SalePrice >= np.percentile(train_df_copy.SalePrice,80),\"new_seg_col\"] = \"very high price\"\n",
    "    train_df_col_avg_price.loc[(train_df_col_avg_price.SalePrice >= np.percentile(train_df_copy.SalePrice,60)) & (train_df_col_avg_price.SalePrice < np.percentile(train_df_copy.SalePrice,80)),\"new_seg_col\"] = \"high price\"\n",
    "    train_df_col_avg_price.loc[(train_df_col_avg_price.SalePrice >= np.percentile(train_df_copy.SalePrice,40)) & (train_df_col_avg_price.SalePrice < np.percentile(train_df_copy.SalePrice,60)),\"new_seg_col\"] = \"mid price\"\n",
    "    train_df_col_avg_price.loc[(train_df_col_avg_price.SalePrice >= np.percentile(train_df_copy.SalePrice,20)) & (train_df_col_avg_price.SalePrice < np.percentile(train_df_copy.SalePrice,40)),\"new_seg_col\"] = \"low price\"\n",
    "    train_df_col_avg_price.loc[train_df_col_avg_price.SalePrice < np.percentile(train_df_copy.SalePrice,20),\"new_seg_col\"] = \"very low price\"\n",
    "    \n",
    "    # create a new_seg dictionary\n",
    "    new_seg = dict(zip(train_df_col_avg_price.index, train_df_col_avg_price.new_seg_col))\n",
    "    return new_seg\n",
    "\n",
    "def transform_high_dim_col(all_df, high_dim_col, new_seg):\n",
    "    '''\n",
    "    This function takes a concatenated all_df and high_dim_col name for transformation\n",
    "    '''\n",
    "    def get_seg_value(key):\n",
    "        '''\n",
    "        for those scenarios that, some values only appear in test_df, not in train_df, we just store them in unknown category\n",
    "        '''\n",
    "        try:\n",
    "            new_value = new_seg[key]\n",
    "        except:\n",
    "            new_value = \"unknown\"\n",
    "        return new_value\n",
    "    \n",
    "    all_df[high_dim_col] = list(map(get_seg_value, all_df[high_dim_col]))\n",
    "    return all_df    \n",
    "    "
   ]
  },
  {
   "cell_type": "code",
   "execution_count": 13,
   "metadata": {
    "execution": {
     "iopub.execute_input": "2020-11-03T15:28:08.547692Z",
     "iopub.status.busy": "2020-11-03T15:28:08.546792Z",
     "iopub.status.idle": "2020-11-03T15:28:08.642965Z",
     "shell.execute_reply": "2020-11-03T15:28:08.643635Z"
    },
    "papermill": {
     "duration": 0.134526,
     "end_time": "2020-11-03T15:28:08.643806",
     "exception": false,
     "start_time": "2020-11-03T15:28:08.509280",
     "status": "completed"
    },
    "tags": []
   },
   "outputs": [
    {
     "name": "stdout",
     "output_type": "stream",
     "text": [
      "Now we have got a new segment for Neighborhood\n",
      "hooray! we have transformed the Neighborhood\n",
      "Now we have got a new segment for MSSubClass\n",
      "hooray! we have transformed the MSSubClass\n",
      "Now we have got a new segment for Exterior2nd\n",
      "hooray! we have transformed the Exterior2nd\n",
      "Now we have got a new segment for Exterior1st\n",
      "hooray! we have transformed the Exterior1st\n"
     ]
    },
    {
     "data": {
      "text/html": [
       "<div>\n",
       "<style scoped>\n",
       "    .dataframe tbody tr th:only-of-type {\n",
       "        vertical-align: middle;\n",
       "    }\n",
       "\n",
       "    .dataframe tbody tr th {\n",
       "        vertical-align: top;\n",
       "    }\n",
       "\n",
       "    .dataframe thead th {\n",
       "        text-align: right;\n",
       "    }\n",
       "</style>\n",
       "<table border=\"1\" class=\"dataframe\">\n",
       "  <thead>\n",
       "    <tr style=\"text-align: right;\">\n",
       "      <th></th>\n",
       "      <th>Neighborhood</th>\n",
       "      <th>MSSubClass</th>\n",
       "      <th>Exterior2nd</th>\n",
       "      <th>Exterior1st</th>\n",
       "    </tr>\n",
       "    <tr>\n",
       "      <th>Id</th>\n",
       "      <th></th>\n",
       "      <th></th>\n",
       "      <th></th>\n",
       "      <th></th>\n",
       "    </tr>\n",
       "  </thead>\n",
       "  <tbody>\n",
       "    <tr>\n",
       "      <th>1</th>\n",
       "      <td>high price</td>\n",
       "      <td>high price</td>\n",
       "      <td>high price</td>\n",
       "      <td>high price</td>\n",
       "    </tr>\n",
       "    <tr>\n",
       "      <th>2</th>\n",
       "      <td>high price</td>\n",
       "      <td>mid price</td>\n",
       "      <td>low price</td>\n",
       "      <td>low price</td>\n",
       "    </tr>\n",
       "    <tr>\n",
       "      <th>3</th>\n",
       "      <td>high price</td>\n",
       "      <td>high price</td>\n",
       "      <td>high price</td>\n",
       "      <td>high price</td>\n",
       "    </tr>\n",
       "    <tr>\n",
       "      <th>4</th>\n",
       "      <td>high price</td>\n",
       "      <td>mid price</td>\n",
       "      <td>low price</td>\n",
       "      <td>low price</td>\n",
       "    </tr>\n",
       "    <tr>\n",
       "      <th>5</th>\n",
       "      <td>very high price</td>\n",
       "      <td>high price</td>\n",
       "      <td>high price</td>\n",
       "      <td>high price</td>\n",
       "    </tr>\n",
       "    <tr>\n",
       "      <th>...</th>\n",
       "      <td>...</td>\n",
       "      <td>...</td>\n",
       "      <td>...</td>\n",
       "      <td>...</td>\n",
       "    </tr>\n",
       "    <tr>\n",
       "      <th>2915</th>\n",
       "      <td>very low price</td>\n",
       "      <td>low price</td>\n",
       "      <td>high price</td>\n",
       "      <td>high price</td>\n",
       "    </tr>\n",
       "    <tr>\n",
       "      <th>2916</th>\n",
       "      <td>very low price</td>\n",
       "      <td>low price</td>\n",
       "      <td>high price</td>\n",
       "      <td>high price</td>\n",
       "    </tr>\n",
       "    <tr>\n",
       "      <th>2917</th>\n",
       "      <td>mid price</td>\n",
       "      <td>mid price</td>\n",
       "      <td>high price</td>\n",
       "      <td>high price</td>\n",
       "    </tr>\n",
       "    <tr>\n",
       "      <th>2918</th>\n",
       "      <td>mid price</td>\n",
       "      <td>low price</td>\n",
       "      <td>low price</td>\n",
       "      <td>mid price</td>\n",
       "    </tr>\n",
       "    <tr>\n",
       "      <th>2919</th>\n",
       "      <td>mid price</td>\n",
       "      <td>high price</td>\n",
       "      <td>mid price</td>\n",
       "      <td>mid price</td>\n",
       "    </tr>\n",
       "  </tbody>\n",
       "</table>\n",
       "<p>2919 rows × 4 columns</p>\n",
       "</div>"
      ],
      "text/plain": [
       "         Neighborhood  MSSubClass Exterior2nd Exterior1st\n",
       "Id                                                       \n",
       "1          high price  high price  high price  high price\n",
       "2          high price   mid price   low price   low price\n",
       "3          high price  high price  high price  high price\n",
       "4          high price   mid price   low price   low price\n",
       "5     very high price  high price  high price  high price\n",
       "...               ...         ...         ...         ...\n",
       "2915   very low price   low price  high price  high price\n",
       "2916   very low price   low price  high price  high price\n",
       "2917        mid price   mid price  high price  high price\n",
       "2918        mid price   low price   low price   mid price\n",
       "2919        mid price  high price   mid price   mid price\n",
       "\n",
       "[2919 rows x 4 columns]"
      ]
     },
     "execution_count": 13,
     "metadata": {},
     "output_type": "execute_result"
    }
   ],
   "source": [
    "obj_features = [\"Neighborhood\",\"MSSubClass\",\"Exterior2nd\",\"Exterior1st\"]\n",
    "for high_dim_col in obj_features:\n",
    "    new_seg = get_new_segment(train_df_copy, high_dim_col)\n",
    "    print(f'Now we have got a new segment for {high_dim_col}')\n",
    "    all_df = transform_high_dim_col(all_df, high_dim_col, new_seg)\n",
    "    print(f'hooray! we have transformed the {high_dim_col}')\n",
    "    \n",
    "# Let's take a look at the transformed features\n",
    "all_df[obj_features]"
   ]
  },
  {
   "cell_type": "markdown",
   "metadata": {
    "papermill": {
     "duration": 0.03065,
     "end_time": "2020-11-03T15:28:08.705858",
     "exception": false,
     "start_time": "2020-11-03T15:28:08.675208",
     "status": "completed"
    },
    "tags": []
   },
   "source": [
    "### 3-1. one hot encoding****"
   ]
  },
  {
   "cell_type": "code",
   "execution_count": 14,
   "metadata": {
    "execution": {
     "iopub.execute_input": "2020-11-03T15:28:08.777030Z",
     "iopub.status.busy": "2020-11-03T15:28:08.774016Z",
     "iopub.status.idle": "2020-11-03T15:28:08.833423Z",
     "shell.execute_reply": "2020-11-03T15:28:08.832754Z"
    },
    "papermill": {
     "duration": 0.09681,
     "end_time": "2020-11-03T15:28:08.833527",
     "exception": false,
     "start_time": "2020-11-03T15:28:08.736717",
     "status": "completed"
    },
    "tags": []
   },
   "outputs": [
    {
     "data": {
      "text/plain": [
       "(2919, 274)"
      ]
     },
     "execution_count": 14,
     "metadata": {},
     "output_type": "execute_result"
    }
   ],
   "source": [
    "all_df_dummies=pd.get_dummies(all_df)\n",
    "all_df_dummies.shape"
   ]
  },
  {
   "cell_type": "markdown",
   "metadata": {
    "papermill": {
     "duration": 0.030982,
     "end_time": "2020-11-03T15:28:08.895877",
     "exception": false,
     "start_time": "2020-11-03T15:28:08.864895",
     "status": "completed"
    },
    "tags": []
   },
   "source": [
    "### 3-3. Normalize numerical independent variables"
   ]
  },
  {
   "cell_type": "code",
   "execution_count": 15,
   "metadata": {
    "execution": {
     "iopub.execute_input": "2020-11-03T15:28:08.964602Z",
     "iopub.status.busy": "2020-11-03T15:28:08.964109Z",
     "iopub.status.idle": "2020-11-03T15:28:08.996573Z",
     "shell.execute_reply": "2020-11-03T15:28:08.995872Z"
    },
    "papermill": {
     "duration": 0.069783,
     "end_time": "2020-11-03T15:28:08.996709",
     "exception": false,
     "start_time": "2020-11-03T15:28:08.926926",
     "status": "completed"
    },
    "tags": []
   },
   "outputs": [
    {
     "data": {
      "text/html": [
       "<div>\n",
       "<style scoped>\n",
       "    .dataframe tbody tr th:only-of-type {\n",
       "        vertical-align: middle;\n",
       "    }\n",
       "\n",
       "    .dataframe tbody tr th {\n",
       "        vertical-align: top;\n",
       "    }\n",
       "\n",
       "    .dataframe thead th {\n",
       "        text-align: right;\n",
       "    }\n",
       "</style>\n",
       "<table border=\"1\" class=\"dataframe\">\n",
       "  <thead>\n",
       "    <tr style=\"text-align: right;\">\n",
       "      <th></th>\n",
       "      <th>LotFrontage</th>\n",
       "      <th>LotArea</th>\n",
       "      <th>OverallQual</th>\n",
       "      <th>OverallCond</th>\n",
       "      <th>YearBuilt</th>\n",
       "      <th>YearRemodAdd</th>\n",
       "      <th>MasVnrArea</th>\n",
       "      <th>BsmtFinSF1</th>\n",
       "      <th>BsmtFinSF2</th>\n",
       "      <th>BsmtUnfSF</th>\n",
       "      <th>...</th>\n",
       "      <th>SaleType_New</th>\n",
       "      <th>SaleType_Oth</th>\n",
       "      <th>SaleType_WD</th>\n",
       "      <th>SaleType_missing</th>\n",
       "      <th>SaleCondition_Abnorml</th>\n",
       "      <th>SaleCondition_AdjLand</th>\n",
       "      <th>SaleCondition_Alloca</th>\n",
       "      <th>SaleCondition_Family</th>\n",
       "      <th>SaleCondition_Normal</th>\n",
       "      <th>SaleCondition_Partial</th>\n",
       "    </tr>\n",
       "    <tr>\n",
       "      <th>Id</th>\n",
       "      <th></th>\n",
       "      <th></th>\n",
       "      <th></th>\n",
       "      <th></th>\n",
       "      <th></th>\n",
       "      <th></th>\n",
       "      <th></th>\n",
       "      <th></th>\n",
       "      <th></th>\n",
       "      <th></th>\n",
       "      <th></th>\n",
       "      <th></th>\n",
       "      <th></th>\n",
       "      <th></th>\n",
       "      <th></th>\n",
       "      <th></th>\n",
       "      <th></th>\n",
       "      <th></th>\n",
       "      <th></th>\n",
       "      <th></th>\n",
       "      <th></th>\n",
       "    </tr>\n",
       "  </thead>\n",
       "  <tbody>\n",
       "    <tr>\n",
       "      <th>1</th>\n",
       "      <td>65.0</td>\n",
       "      <td>8450.0</td>\n",
       "      <td>7.0</td>\n",
       "      <td>5.0</td>\n",
       "      <td>2003.0</td>\n",
       "      <td>2003.0</td>\n",
       "      <td>196.0</td>\n",
       "      <td>706.0</td>\n",
       "      <td>0.0</td>\n",
       "      <td>150.0</td>\n",
       "      <td>...</td>\n",
       "      <td>0</td>\n",
       "      <td>0</td>\n",
       "      <td>1</td>\n",
       "      <td>0</td>\n",
       "      <td>0</td>\n",
       "      <td>0</td>\n",
       "      <td>0</td>\n",
       "      <td>0</td>\n",
       "      <td>1</td>\n",
       "      <td>0</td>\n",
       "    </tr>\n",
       "    <tr>\n",
       "      <th>2</th>\n",
       "      <td>80.0</td>\n",
       "      <td>9600.0</td>\n",
       "      <td>6.0</td>\n",
       "      <td>8.0</td>\n",
       "      <td>1976.0</td>\n",
       "      <td>1976.0</td>\n",
       "      <td>0.0</td>\n",
       "      <td>978.0</td>\n",
       "      <td>0.0</td>\n",
       "      <td>284.0</td>\n",
       "      <td>...</td>\n",
       "      <td>0</td>\n",
       "      <td>0</td>\n",
       "      <td>1</td>\n",
       "      <td>0</td>\n",
       "      <td>0</td>\n",
       "      <td>0</td>\n",
       "      <td>0</td>\n",
       "      <td>0</td>\n",
       "      <td>1</td>\n",
       "      <td>0</td>\n",
       "    </tr>\n",
       "    <tr>\n",
       "      <th>3</th>\n",
       "      <td>68.0</td>\n",
       "      <td>11250.0</td>\n",
       "      <td>7.0</td>\n",
       "      <td>5.0</td>\n",
       "      <td>2001.0</td>\n",
       "      <td>2002.0</td>\n",
       "      <td>162.0</td>\n",
       "      <td>486.0</td>\n",
       "      <td>0.0</td>\n",
       "      <td>434.0</td>\n",
       "      <td>...</td>\n",
       "      <td>0</td>\n",
       "      <td>0</td>\n",
       "      <td>1</td>\n",
       "      <td>0</td>\n",
       "      <td>0</td>\n",
       "      <td>0</td>\n",
       "      <td>0</td>\n",
       "      <td>0</td>\n",
       "      <td>1</td>\n",
       "      <td>0</td>\n",
       "    </tr>\n",
       "    <tr>\n",
       "      <th>4</th>\n",
       "      <td>60.0</td>\n",
       "      <td>9550.0</td>\n",
       "      <td>7.0</td>\n",
       "      <td>5.0</td>\n",
       "      <td>1915.0</td>\n",
       "      <td>1970.0</td>\n",
       "      <td>0.0</td>\n",
       "      <td>216.0</td>\n",
       "      <td>0.0</td>\n",
       "      <td>540.0</td>\n",
       "      <td>...</td>\n",
       "      <td>0</td>\n",
       "      <td>0</td>\n",
       "      <td>1</td>\n",
       "      <td>0</td>\n",
       "      <td>1</td>\n",
       "      <td>0</td>\n",
       "      <td>0</td>\n",
       "      <td>0</td>\n",
       "      <td>0</td>\n",
       "      <td>0</td>\n",
       "    </tr>\n",
       "    <tr>\n",
       "      <th>5</th>\n",
       "      <td>84.0</td>\n",
       "      <td>14260.0</td>\n",
       "      <td>8.0</td>\n",
       "      <td>5.0</td>\n",
       "      <td>2000.0</td>\n",
       "      <td>2000.0</td>\n",
       "      <td>350.0</td>\n",
       "      <td>655.0</td>\n",
       "      <td>0.0</td>\n",
       "      <td>490.0</td>\n",
       "      <td>...</td>\n",
       "      <td>0</td>\n",
       "      <td>0</td>\n",
       "      <td>1</td>\n",
       "      <td>0</td>\n",
       "      <td>0</td>\n",
       "      <td>0</td>\n",
       "      <td>0</td>\n",
       "      <td>0</td>\n",
       "      <td>1</td>\n",
       "      <td>0</td>\n",
       "    </tr>\n",
       "  </tbody>\n",
       "</table>\n",
       "<p>5 rows × 274 columns</p>\n",
       "</div>"
      ],
      "text/plain": [
       "    LotFrontage  LotArea  OverallQual  OverallCond  YearBuilt  YearRemodAdd  \\\n",
       "Id                                                                            \n",
       "1          65.0   8450.0          7.0          5.0     2003.0        2003.0   \n",
       "2          80.0   9600.0          6.0          8.0     1976.0        1976.0   \n",
       "3          68.0  11250.0          7.0          5.0     2001.0        2002.0   \n",
       "4          60.0   9550.0          7.0          5.0     1915.0        1970.0   \n",
       "5          84.0  14260.0          8.0          5.0     2000.0        2000.0   \n",
       "\n",
       "    MasVnrArea  BsmtFinSF1  BsmtFinSF2  BsmtUnfSF  ...  SaleType_New  \\\n",
       "Id                                                 ...                 \n",
       "1        196.0       706.0         0.0      150.0  ...             0   \n",
       "2          0.0       978.0         0.0      284.0  ...             0   \n",
       "3        162.0       486.0         0.0      434.0  ...             0   \n",
       "4          0.0       216.0         0.0      540.0  ...             0   \n",
       "5        350.0       655.0         0.0      490.0  ...             0   \n",
       "\n",
       "    SaleType_Oth  SaleType_WD  SaleType_missing  SaleCondition_Abnorml  \\\n",
       "Id                                                                       \n",
       "1              0            1                 0                      0   \n",
       "2              0            1                 0                      0   \n",
       "3              0            1                 0                      0   \n",
       "4              0            1                 0                      1   \n",
       "5              0            1                 0                      0   \n",
       "\n",
       "    SaleCondition_AdjLand  SaleCondition_Alloca  SaleCondition_Family  \\\n",
       "Id                                                                      \n",
       "1                       0                     0                     0   \n",
       "2                       0                     0                     0   \n",
       "3                       0                     0                     0   \n",
       "4                       0                     0                     0   \n",
       "5                       0                     0                     0   \n",
       "\n",
       "    SaleCondition_Normal  SaleCondition_Partial  \n",
       "Id                                               \n",
       "1                      1                      0  \n",
       "2                      1                      0  \n",
       "3                      1                      0  \n",
       "4                      0                      0  \n",
       "5                      1                      0  \n",
       "\n",
       "[5 rows x 274 columns]"
      ]
     },
     "execution_count": 15,
     "metadata": {},
     "output_type": "execute_result"
    }
   ],
   "source": [
    "all_df_dummies.head()"
   ]
  },
  {
   "cell_type": "code",
   "execution_count": 16,
   "metadata": {
    "execution": {
     "iopub.execute_input": "2020-11-03T15:28:09.100141Z",
     "iopub.status.busy": "2020-11-03T15:28:09.099185Z",
     "iopub.status.idle": "2020-11-03T15:28:09.115561Z",
     "shell.execute_reply": "2020-11-03T15:28:09.116065Z"
    },
    "papermill": {
     "duration": 0.072252,
     "end_time": "2020-11-03T15:28:09.116245",
     "exception": false,
     "start_time": "2020-11-03T15:28:09.043993",
     "status": "completed"
    },
    "tags": []
   },
   "outputs": [],
   "source": [
    "numerical_cols = all_df.columns[all_df.dtypes!=\"object\"] #this just return the 'names' of these numerical columns\n",
    "numerical_cols_mean = all_df.loc[:,numerical_cols].mean()\n",
    "numerical_cols_std = all_df.loc[:,numerical_cols].std()  #if we want to pass in names of the columns, we need to use '.loc[]'\n",
    "updated_numerical_cols=(all_df.loc[:,numerical_cols]-numerical_cols_mean)/numerical_cols_std\n",
    "\n",
    "#then pass these updated numerical values to all_df_dummies\n",
    "all_df_dummies[updated_numerical_cols.columns]=updated_numerical_cols"
   ]
  },
  {
   "cell_type": "markdown",
   "metadata": {
    "papermill": {
     "duration": 0.031503,
     "end_time": "2020-11-03T15:28:09.180722",
     "exception": false,
     "start_time": "2020-11-03T15:28:09.149219",
     "status": "completed"
    },
    "tags": []
   },
   "source": [
    "## STEP 4: Modeling"
   ]
  },
  {
   "cell_type": "markdown",
   "metadata": {
    "papermill": {
     "duration": 0.031927,
     "end_time": "2020-11-03T15:28:09.244257",
     "exception": false,
     "start_time": "2020-11-03T15:28:09.212330",
     "status": "completed"
    },
    "tags": []
   },
   "source": [
    "### 4-1. Split train_test"
   ]
  },
  {
   "cell_type": "code",
   "execution_count": 17,
   "metadata": {
    "execution": {
     "iopub.execute_input": "2020-11-03T15:28:09.314661Z",
     "iopub.status.busy": "2020-11-03T15:28:09.314023Z",
     "iopub.status.idle": "2020-11-03T15:28:09.324360Z",
     "shell.execute_reply": "2020-11-03T15:28:09.323740Z"
    },
    "papermill": {
     "duration": 0.048405,
     "end_time": "2020-11-03T15:28:09.324475",
     "exception": false,
     "start_time": "2020-11-03T15:28:09.276070",
     "status": "completed"
    },
    "tags": []
   },
   "outputs": [],
   "source": [
    "X_train = all_df_dummies.iloc[train_df.index-1] #since we are slicing using 'index',so we need to use loc instead of iloc\n",
    "Y_train = train_y\n",
    "X_test = all_df_dummies.iloc[test_df.index-1] #since we are slicing using 'index',so we need to use loc instead of iloc "
   ]
  },
  {
   "cell_type": "markdown",
   "metadata": {
    "papermill": {
     "duration": 0.032107,
     "end_time": "2020-11-03T15:28:09.389537",
     "exception": false,
     "start_time": "2020-11-03T15:28:09.357430",
     "status": "completed"
    },
    "tags": []
   },
   "source": [
    "### 4-2. build Ensemble (using XGBoost here)"
   ]
  },
  {
   "cell_type": "code",
   "execution_count": 18,
   "metadata": {
    "execution": {
     "iopub.execute_input": "2020-11-03T15:28:09.460146Z",
     "iopub.status.busy": "2020-11-03T15:28:09.459465Z",
     "iopub.status.idle": "2020-11-03T15:28:10.360715Z",
     "shell.execute_reply": "2020-11-03T15:28:10.359932Z"
    },
    "papermill": {
     "duration": 0.939049,
     "end_time": "2020-11-03T15:28:10.360825",
     "exception": false,
     "start_time": "2020-11-03T15:28:09.421776",
     "status": "completed"
    },
    "tags": []
   },
   "outputs": [],
   "source": [
    "from xgboost import XGBRegressor\n",
    "from sklearn.model_selection import cross_val_score"
   ]
  },
  {
   "cell_type": "code",
   "execution_count": 19,
   "metadata": {
    "execution": {
     "iopub.execute_input": "2020-11-03T15:28:10.445166Z",
     "iopub.status.busy": "2020-11-03T15:28:10.444469Z",
     "iopub.status.idle": "2020-11-03T15:28:10.450177Z",
     "shell.execute_reply": "2020-11-03T15:28:10.450953Z"
    },
    "papermill": {
     "duration": 0.053295,
     "end_time": "2020-11-03T15:28:10.451209",
     "exception": false,
     "start_time": "2020-11-03T15:28:10.397914",
     "status": "completed"
    },
    "tags": []
   },
   "outputs": [
    {
     "data": {
      "text/plain": [
       "((1460, 274), (1460,))"
      ]
     },
     "execution_count": 19,
     "metadata": {},
     "output_type": "execute_result"
    }
   ],
   "source": [
    "X_train.shape,Y_train.shape"
   ]
  },
  {
   "cell_type": "markdown",
   "metadata": {
    "papermill": {
     "duration": 0.032928,
     "end_time": "2020-11-03T15:28:10.525269",
     "exception": false,
     "start_time": "2020-11-03T15:28:10.492341",
     "status": "completed"
    },
    "tags": []
   },
   "source": [
    "## STEP 5: Fit the model using whole dataset, submit the prediction"
   ]
  },
  {
   "cell_type": "code",
   "execution_count": 20,
   "metadata": {
    "execution": {
     "iopub.execute_input": "2020-11-03T15:28:10.601842Z",
     "iopub.status.busy": "2020-11-03T15:28:10.600989Z",
     "iopub.status.idle": "2020-11-03T15:32:29.344708Z",
     "shell.execute_reply": "2020-11-03T15:32:29.345517Z"
    },
    "papermill": {
     "duration": 258.787539,
     "end_time": "2020-11-03T15:32:29.345691",
     "exception": false,
     "start_time": "2020-11-03T15:28:10.558152",
     "status": "completed"
    },
    "tags": []
   },
   "outputs": [
    {
     "data": {
      "text/plain": [
       "GridSearchCV(cv=5,\n",
       "             estimator=XGBRegressor(base_score=None, booster=None,\n",
       "                                    colsample_bylevel=None,\n",
       "                                    colsample_bynode=None,\n",
       "                                    colsample_bytree=None, gamma=None,\n",
       "                                    gpu_id=None, importance_type='gain',\n",
       "                                    interaction_constraints=None,\n",
       "                                    learning_rate=None, max_delta_step=None,\n",
       "                                    max_depth=None, min_child_weight=None,\n",
       "                                    missing=nan, monotone_constraints=None,\n",
       "                                    n_estimators=1000, n_jobs=None,\n",
       "                                    num_parallel_tree=None, random_state=None,\n",
       "                                    reg_alpha=None, reg_lambda=None,\n",
       "                                    scale_pos_weight=None, subsample=None,\n",
       "                                    tree_method=None, validate_parameters=None,\n",
       "                                    verbosity=None),\n",
       "             n_jobs=-1,\n",
       "             param_grid={'learning_rate': [0.01, 0.03, 0.05],\n",
       "                         'max_depth': [2, 4, 5, 6]},\n",
       "             scoring='neg_mean_squared_error')"
      ]
     },
     "execution_count": 20,
     "metadata": {},
     "output_type": "execute_result"
    }
   ],
   "source": [
    "from sklearn.model_selection import GridSearchCV\n",
    "\n",
    "clf = XGBRegressor(n_estimators = 1000)\n",
    "parameters = {\"learning_rate\": [0.01,0.03,0.05], \"max_depth\":[2,4,5,6]}\n",
    "grid_search = GridSearchCV(clf, parameters, n_jobs = -1, cv=5, scoring=\"neg_mean_squared_error\")\n",
    "grid_search.fit(X_train, Y_train)"
   ]
  },
  {
   "cell_type": "code",
   "execution_count": 21,
   "metadata": {
    "execution": {
     "iopub.execute_input": "2020-11-03T15:32:29.467891Z",
     "iopub.status.busy": "2020-11-03T15:32:29.466936Z",
     "iopub.status.idle": "2020-11-03T15:32:29.507954Z",
     "shell.execute_reply": "2020-11-03T15:32:29.508781Z"
    },
    "papermill": {
     "duration": 0.104957,
     "end_time": "2020-11-03T15:32:29.508950",
     "exception": false,
     "start_time": "2020-11-03T15:32:29.403993",
     "status": "completed"
    },
    "tags": []
   },
   "outputs": [
    {
     "name": "stdout",
     "output_type": "stream",
     "text": [
      "{'learning_rate': 0.05, 'max_depth': 2}\n",
      "0.9660922198122409\n"
     ]
    }
   ],
   "source": [
    "print(grid_search.best_params_)\n",
    "clf_best = grid_search.best_estimator_\n",
    "print(clf_best.score(X_train, Y_train))"
   ]
  },
  {
   "cell_type": "code",
   "execution_count": 22,
   "metadata": {
    "execution": {
     "iopub.execute_input": "2020-11-03T15:32:29.633621Z",
     "iopub.status.busy": "2020-11-03T15:32:29.632618Z",
     "iopub.status.idle": "2020-11-03T15:32:29.734338Z",
     "shell.execute_reply": "2020-11-03T15:32:29.733812Z"
    },
    "papermill": {
     "duration": 0.167076,
     "end_time": "2020-11-03T15:32:29.734435",
     "exception": false,
     "start_time": "2020-11-03T15:32:29.567359",
     "status": "completed"
    },
    "tags": []
   },
   "outputs": [
    {
     "data": {
      "text/html": [
       "<div>\n",
       "<style scoped>\n",
       "    .dataframe tbody tr th:only-of-type {\n",
       "        vertical-align: middle;\n",
       "    }\n",
       "\n",
       "    .dataframe tbody tr th {\n",
       "        vertical-align: top;\n",
       "    }\n",
       "\n",
       "    .dataframe thead th {\n",
       "        text-align: right;\n",
       "    }\n",
       "</style>\n",
       "<table border=\"1\" class=\"dataframe\">\n",
       "  <thead>\n",
       "    <tr style=\"text-align: right;\">\n",
       "      <th></th>\n",
       "      <th>0</th>\n",
       "    </tr>\n",
       "  </thead>\n",
       "  <tbody>\n",
       "    <tr>\n",
       "      <th>Neighborhood_very low price</th>\n",
       "      <td>0.107887</td>\n",
       "    </tr>\n",
       "    <tr>\n",
       "      <th>GarageCars</th>\n",
       "      <td>0.104222</td>\n",
       "    </tr>\n",
       "    <tr>\n",
       "      <th>BsmtQual_Ex</th>\n",
       "      <td>0.091357</td>\n",
       "    </tr>\n",
       "    <tr>\n",
       "      <th>Neighborhood_very high price</th>\n",
       "      <td>0.068020</td>\n",
       "    </tr>\n",
       "    <tr>\n",
       "      <th>GarageType_Attchd</th>\n",
       "      <td>0.057458</td>\n",
       "    </tr>\n",
       "    <tr>\n",
       "      <th>...</th>\n",
       "      <td>...</td>\n",
       "    </tr>\n",
       "    <tr>\n",
       "      <th>LandContour_HLS</th>\n",
       "      <td>0.000000</td>\n",
       "    </tr>\n",
       "    <tr>\n",
       "      <th>Foundation_CBlock</th>\n",
       "      <td>0.000000</td>\n",
       "    </tr>\n",
       "    <tr>\n",
       "      <th>Foundation_Slab</th>\n",
       "      <td>0.000000</td>\n",
       "    </tr>\n",
       "    <tr>\n",
       "      <th>Foundation_Stone</th>\n",
       "      <td>0.000000</td>\n",
       "    </tr>\n",
       "    <tr>\n",
       "      <th>ExterQual_Fa</th>\n",
       "      <td>0.000000</td>\n",
       "    </tr>\n",
       "  </tbody>\n",
       "</table>\n",
       "<p>274 rows × 1 columns</p>\n",
       "</div>"
      ],
      "text/plain": [
       "                                     0\n",
       "Neighborhood_very low price   0.107887\n",
       "GarageCars                    0.104222\n",
       "BsmtQual_Ex                   0.091357\n",
       "Neighborhood_very high price  0.068020\n",
       "GarageType_Attchd             0.057458\n",
       "...                                ...\n",
       "LandContour_HLS               0.000000\n",
       "Foundation_CBlock             0.000000\n",
       "Foundation_Slab               0.000000\n",
       "Foundation_Stone              0.000000\n",
       "ExterQual_Fa                  0.000000\n",
       "\n",
       "[274 rows x 1 columns]"
      ]
     },
     "execution_count": 22,
     "metadata": {},
     "output_type": "execute_result"
    }
   ],
   "source": [
    "feature_importances = pd.DataFrame(clf_best.feature_importances_)\n",
    "feature_importances.index = X_train.columns\n",
    "feature_importances = feature_importances.sort_values(0,ascending=False)\n",
    "feature_importances"
   ]
  },
  {
   "cell_type": "code",
   "execution_count": 23,
   "metadata": {
    "execution": {
     "iopub.execute_input": "2020-11-03T15:32:29.799778Z",
     "iopub.status.busy": "2020-11-03T15:32:29.799083Z",
     "iopub.status.idle": "2020-11-03T15:34:14.038486Z",
     "shell.execute_reply": "2020-11-03T15:34:14.040000Z"
    },
    "papermill": {
     "duration": 104.279385,
     "end_time": "2020-11-03T15:34:14.040388",
     "exception": false,
     "start_time": "2020-11-03T15:32:29.761003",
     "status": "completed"
    },
    "tags": []
   },
   "outputs": [
    {
     "name": "stdout",
     "output_type": "stream",
     "text": [
      "{'learning_rate': 0.05, 'max_depth': 2}\n",
      "0.9654180559926093\n"
     ]
    }
   ],
   "source": [
    "X_train_shrink = X_train[feature_importances.index[:int(len(feature_importances)/3)]]\n",
    "X_test_shrink = X_test[feature_importances.index[:int(len(feature_importances)/3)]]\n",
    "\n",
    "parameters = {\"learning_rate\": [0.01,0.03,0.05], \"max_depth\":[2,4,5,6]}\n",
    "grid_search = GridSearchCV(clf, parameters, n_jobs = -1, cv=5, scoring=\"neg_mean_squared_error\")\n",
    "grid_search.fit(X_train_shrink, Y_train)\n",
    "\n",
    "print(grid_search.best_params_)\n",
    "clf_best = grid_search.best_estimator_\n",
    "print(clf_best.score(X_train_shrink, Y_train))"
   ]
  },
  {
   "cell_type": "code",
   "execution_count": 25,
   "metadata": {
    "execution": {
     "iopub.execute_input": "2020-11-03T15:34:14.226813Z",
     "iopub.status.busy": "2020-11-03T15:34:14.226208Z",
     "iopub.status.idle": "2020-11-03T15:34:14.248501Z",
     "shell.execute_reply": "2020-11-03T15:34:14.247351Z"
    },
    "papermill": {
     "duration": 0.066534,
     "end_time": "2020-11-03T15:34:14.248616",
     "exception": false,
     "start_time": "2020-11-03T15:34:14.182082",
     "status": "completed"
    },
    "tags": []
   },
   "outputs": [
    {
     "data": {
      "text/plain": [
       "array([121610.95, 162488.75, 183871.5 , ..., 170394.81, 116142.57,\n",
       "       234469.62], dtype=float32)"
      ]
     },
     "execution_count": 25,
     "metadata": {},
     "output_type": "execute_result"
    }
   ],
   "source": [
    "test_y_2nd = np.expm1(clf_best.predict(X_test_shrink))\n",
    "test_y_2nd"
   ]
  },
  {
   "cell_type": "code",
   "execution_count": 26,
   "metadata": {
    "execution": {
     "iopub.execute_input": "2020-11-03T15:34:14.439782Z",
     "iopub.status.busy": "2020-11-03T15:34:14.438955Z",
     "iopub.status.idle": "2020-11-03T15:34:14.667740Z",
     "shell.execute_reply": "2020-11-03T15:34:14.667029Z"
    },
    "papermill": {
     "duration": 0.28147,
     "end_time": "2020-11-03T15:34:14.667856",
     "exception": false,
     "start_time": "2020-11-03T15:34:14.386386",
     "status": "completed"
    },
    "tags": []
   },
   "outputs": [],
   "source": [
    "submission_v2 = pd.DataFrame({\"Id\":X_test.index,\"SalePrice\":test_y_2nd})\n",
    "submission_v2.head(10)\n",
    "submission_v2.to_csv(\"submission.csv\",index=False)"
   ]
  },
  {
   "cell_type": "code",
   "execution_count": null,
   "metadata": {
    "papermill": {
     "duration": 0.036271,
     "end_time": "2020-11-03T15:34:14.740964",
     "exception": false,
     "start_time": "2020-11-03T15:34:14.704693",
     "status": "completed"
    },
    "tags": []
   },
   "outputs": [],
   "source": []
  }
 ],
 "metadata": {
  "kernelspec": {
   "display_name": "Python 3",
   "language": "python",
   "name": "python3"
  },
  "language_info": {
   "codemirror_mode": {
    "name": "ipython",
    "version": 3
   },
   "file_extension": ".py",
   "mimetype": "text/x-python",
   "name": "python",
   "nbconvert_exporter": "python",
   "pygments_lexer": "ipython3",
   "version": "3.7.4"
  },
  "papermill": {
   "duration": 373.860547,
   "end_time": "2020-11-03T15:34:14.890586",
   "environment_variables": {},
   "exception": null,
   "input_path": "__notebook__.ipynb",
   "output_path": "__notebook__.ipynb",
   "parameters": {},
   "start_time": "2020-11-03T15:28:01.030039",
   "version": "2.1.0"
  }
 },
 "nbformat": 4,
 "nbformat_minor": 4
}
